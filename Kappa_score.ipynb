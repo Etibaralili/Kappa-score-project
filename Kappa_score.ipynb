{
  "nbformat": 4,
  "nbformat_minor": 0,
  "metadata": {
    "colab": {
      "name": "Kappa_score.ipynb",
      "provenance": [],
      "collapsed_sections": []
    },
    "kernelspec": {
      "display_name": "Python 2",
      "language": "python",
      "name": "python2"
    },
    "language_info": {
      "codemirror_mode": {
        "name": "ipython",
        "version": 2
      },
      "file_extension": ".py",
      "mimetype": "text/x-python",
      "name": "python",
      "nbconvert_exporter": "python",
      "pygments_lexer": "ipython2",
      "version": "2.7.10"
    }
  },
  "cells": [
    {
      "cell_type": "code",
      "metadata": {
        "colab_type": "code",
        "id": "YOsOcaRE2B5d",
        "colab": {}
      },
      "source": [
        "import pandas as pd\n",
        "import numpy as np\n",
        "import os\n",
        "from sklearn.metrics import cohen_kappa_score\n",
        "import matplotlib.pyplot as plt"
      ],
      "execution_count": 0,
      "outputs": []
    },
    {
      "cell_type": "code",
      "metadata": {
        "id": "OIKUAZx9bcbS",
        "colab_type": "code",
        "outputId": "aacc36bf-7860-4a7b-f014-125da5abe6e9",
        "colab": {
          "resources": {
            "http://localhost:8080/nbextensions/google.colab/files.js": {
              "data": "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",
              "ok": true,
              "headers": [
                [
                  "content-type",
                  "application/javascript"
                ]
              ],
              "status": 200,
              "status_text": ""
            }
          },
          "base_uri": "https://localhost:8080/",
          "height": 74
        }
      },
      "source": [
        "from google.colab import files\n",
        "files = files.upload()"
      ],
      "execution_count": 2,
      "outputs": [
        {
          "output_type": "display_data",
          "data": {
            "text/plain": [
              "<IPython.core.display.HTML object>"
            ],
            "text/html": [
              "\n",
              "     <input type=\"file\" id=\"files-92c23f13-4535-4151-bb82-08a201565499\" name=\"files[]\" multiple disabled />\n",
              "     <output id=\"result-92c23f13-4535-4151-bb82-08a201565499\">\n",
              "      Upload widget is only available when the cell has been executed in the\n",
              "      current browser session. Please rerun this cell to enable.\n",
              "      </output>\n",
              "      <script src=\"/nbextensions/google.colab/files.js\"></script> "
            ]
          },
          "metadata": {
            "tags": []
          }
        },
        {
          "output_type": "stream",
          "text": [
            "Saving grad_course.csv to grad_course (8).csv\n"
          ],
          "name": "stdout"
        }
      ]
    },
    {
      "cell_type": "code",
      "metadata": {
        "id": "V3ZE-VdWb7r3",
        "colab_type": "code",
        "outputId": "bb249973-43ed-4220-ffb6-6656419cdc7e",
        "colab": {
          "resources": {
            "http://localhost:8080/nbextensions/google.colab/files.js": {
              "data": "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",
              "ok": true,
              "headers": [
                [
                  "content-type",
                  "application/javascript"
                ]
              ],
              "status": 200,
              "status_text": ""
            }
          },
          "base_uri": "https://localhost:8080/",
          "height": 74
        }
      },
      "source": [
        "from google.colab import files\n",
        "files = files.upload()"
      ],
      "execution_count": 3,
      "outputs": [
        {
          "output_type": "display_data",
          "data": {
            "text/plain": [
              "<IPython.core.display.HTML object>"
            ],
            "text/html": [
              "\n",
              "     <input type=\"file\" id=\"files-e709783c-a7b0-4855-b51b-2aaa8183ca37\" name=\"files[]\" multiple disabled />\n",
              "     <output id=\"result-e709783c-a7b0-4855-b51b-2aaa8183ca37\">\n",
              "      Upload widget is only available when the cell has been executed in the\n",
              "      current browser session. Please rerun this cell to enable.\n",
              "      </output>\n",
              "      <script src=\"/nbextensions/google.colab/files.js\"></script> "
            ]
          },
          "metadata": {
            "tags": []
          }
        },
        {
          "output_type": "stream",
          "text": [
            "Saving Graduate_Courses_UNCG_Labeled_Somya.xlsx to Graduate_Courses_UNCG_Labeled_Somya (9).xlsx\n"
          ],
          "name": "stdout"
        }
      ]
    },
    {
      "cell_type": "code",
      "metadata": {
        "id": "oGGS7F-FcABr",
        "colab_type": "code",
        "outputId": "6c05467f-d4b6-4c52-b209-e15c7a4c9b05",
        "colab": {
          "resources": {
            "http://localhost:8080/nbextensions/google.colab/files.js": {
              "data": "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",
              "ok": true,
              "headers": [
                [
                  "content-type",
                  "application/javascript"
                ]
              ],
              "status": 200,
              "status_text": ""
            }
          },
          "base_uri": "https://localhost:8080/",
          "height": 74
        }
      },
      "source": [
        "from google.colab import files\n",
        "files = files.upload()"
      ],
      "execution_count": 4,
      "outputs": [
        {
          "output_type": "display_data",
          "data": {
            "text/plain": [
              "<IPython.core.display.HTML object>"
            ],
            "text/html": [
              "\n",
              "     <input type=\"file\" id=\"files-2b7f1507-87d2-4c64-90a9-5bdbaf637974\" name=\"files[]\" multiple disabled />\n",
              "     <output id=\"result-2b7f1507-87d2-4c64-90a9-5bdbaf637974\">\n",
              "      Upload widget is only available when the cell has been executed in the\n",
              "      current browser session. Please rerun this cell to enable.\n",
              "      </output>\n",
              "      <script src=\"/nbextensions/google.colab/files.js\"></script> "
            ]
          },
          "metadata": {
            "tags": []
          }
        },
        {
          "output_type": "stream",
          "text": [
            "Saving Graduate_Courses_UNCG-2-1_beveridge-coding.csv to Graduate_Courses_UNCG-2-1_beveridge-coding (7).csv\n"
          ],
          "name": "stdout"
        }
      ]
    },
    {
      "cell_type": "code",
      "metadata": {
        "colab_type": "code",
        "id": "2zCqmXfu5QlT",
        "colab": {}
      },
      "source": [
        "df1 = pd.read_excel('Graduate_Courses_UNCG_Labeled_Somya.xlsx',encoding = \"ISO-8859-1\")"
      ],
      "execution_count": 0,
      "outputs": []
    },
    {
      "cell_type": "code",
      "metadata": {
        "colab_type": "code",
        "id": "lKOFhrBOtq6l",
        "colab": {}
      },
      "source": [
        "df2 = pd.read_csv('grad_course.csv',encoding = \"ISO-8859-1\")"
      ],
      "execution_count": 0,
      "outputs": []
    },
    {
      "cell_type": "code",
      "metadata": {
        "id": "JYE86qE4cESo",
        "colab_type": "code",
        "colab": {}
      },
      "source": [
        "df3 = pd.read_csv('Graduate_Courses_UNCG-2-1_beveridge-coding.csv',encoding = \"ISO-8859-1\")"
      ],
      "execution_count": 0,
      "outputs": []
    },
    {
      "cell_type": "code",
      "metadata": {
        "colab_type": "code",
        "id": "KD5eHAG1iImy",
        "outputId": "2c0a2565-15bf-4fee-bfbb-deba4b03dfb4",
        "scrolled": true,
        "colab": {
          "base_uri": "https://localhost:8080/",
          "height": 34
        }
      },
      "source": [
        "df1.shape"
      ],
      "execution_count": 8,
      "outputs": [
        {
          "output_type": "execute_result",
          "data": {
            "text/plain": [
              "(1671, 8)"
            ]
          },
          "metadata": {
            "tags": []
          },
          "execution_count": 8
        }
      ]
    },
    {
      "cell_type": "code",
      "metadata": {
        "colab_type": "code",
        "id": "Oh9I39huiK6J",
        "outputId": "92367bc9-df7a-4e05-abba-a252ced0ae02",
        "colab": {
          "base_uri": "https://localhost:8080/",
          "height": 34
        }
      },
      "source": [
        "df2.shape"
      ],
      "execution_count": 9,
      "outputs": [
        {
          "output_type": "execute_result",
          "data": {
            "text/plain": [
              "(1671, 8)"
            ]
          },
          "metadata": {
            "tags": []
          },
          "execution_count": 9
        }
      ]
    },
    {
      "cell_type": "code",
      "metadata": {
        "id": "f51rMaA-cLIR",
        "colab_type": "code",
        "outputId": "0fb14c94-01d5-4575-cf30-c25dd48dbcce",
        "colab": {
          "base_uri": "https://localhost:8080/",
          "height": 34
        }
      },
      "source": [
        "df3.shape"
      ],
      "execution_count": 10,
      "outputs": [
        {
          "output_type": "execute_result",
          "data": {
            "text/plain": [
              "(1671, 8)"
            ]
          },
          "metadata": {
            "tags": []
          },
          "execution_count": 10
        }
      ]
    },
    {
      "cell_type": "code",
      "metadata": {
        "colab_type": "code",
        "id": "nefeW4fq7VuR",
        "outputId": "4248e068-582d-4eae-e6ad-941a1c5418e9",
        "colab": {
          "base_uri": "https://localhost:8080/",
          "height": 170
        }
      },
      "source": [
        "df1.dtypes"
      ],
      "execution_count": 11,
      "outputs": [
        {
          "output_type": "execute_result",
          "data": {
            "text/plain": [
              "ID                          int64\n",
              "course_code                object\n",
              "SUBJ_DESC                  object\n",
              "COLL_DESC                  object\n",
              "DEPT_DESC                  object\n",
              "Long_Title                 object\n",
              "COURSE_DESC                object\n",
              "Related_To_Data_Science     int64\n",
              "dtype: object"
            ]
          },
          "metadata": {
            "tags": []
          },
          "execution_count": 11
        }
      ]
    },
    {
      "cell_type": "code",
      "metadata": {
        "colab_type": "code",
        "id": "QactBmZX7XeS",
        "outputId": "5cb2dad3-22c9-408a-a27e-932bd397635f",
        "colab": {
          "base_uri": "https://localhost:8080/",
          "height": 170
        }
      },
      "source": [
        "df2.dtypes"
      ],
      "execution_count": 12,
      "outputs": [
        {
          "output_type": "execute_result",
          "data": {
            "text/plain": [
              "ID                          int64\n",
              "course_code                object\n",
              "SUBJ_DESC                  object\n",
              "COLL_DESC                  object\n",
              "DEPT_DESC                  object\n",
              "Long_Title                 object\n",
              "COURSE_DESC                object\n",
              "Related_To_Data_Science     int64\n",
              "dtype: object"
            ]
          },
          "metadata": {
            "tags": []
          },
          "execution_count": 12
        }
      ]
    },
    {
      "cell_type": "code",
      "metadata": {
        "id": "QTkihCBIcO0f",
        "colab_type": "code",
        "outputId": "0f982408-8ab4-45b7-f30c-b61a4c2f6115",
        "colab": {
          "base_uri": "https://localhost:8080/",
          "height": 170
        }
      },
      "source": [
        "df3.dtypes"
      ],
      "execution_count": 13,
      "outputs": [
        {
          "output_type": "execute_result",
          "data": {
            "text/plain": [
              "Unnamed: 0                  int64\n",
              "course_code                object\n",
              "SUBJ_DESC                  object\n",
              "COLL_DESC                  object\n",
              "DEPT_DESC                  object\n",
              "Long_Title                 object\n",
              "COURSE_DESC                object\n",
              "Related_To_Data_Science     int64\n",
              "dtype: object"
            ]
          },
          "metadata": {
            "tags": []
          },
          "execution_count": 13
        }
      ]
    },
    {
      "cell_type": "code",
      "metadata": {
        "id": "iVIMov94cuOi",
        "colab_type": "code",
        "outputId": "b06bd5ba-06e6-46b2-c4fc-b7869ad695ee",
        "colab": {
          "base_uri": "https://localhost:8080/",
          "height": 306
        }
      },
      "source": [
        "df3.head()"
      ],
      "execution_count": 14,
      "outputs": [
        {
          "output_type": "execute_result",
          "data": {
            "text/plain": [
              "   Unnamed: 0  ... Related_To_Data_Science\n",
              "0           0  ...                       0\n",
              "1           1  ...                       0\n",
              "2           2  ...                       0\n",
              "3           3  ...                       0\n",
              "4           4  ...                       0\n",
              "\n",
              "[5 rows x 8 columns]"
            ],
            "text/html": [
              "<div>\n",
              "<style scoped>\n",
              "    .dataframe tbody tr th:only-of-type {\n",
              "        vertical-align: middle;\n",
              "    }\n",
              "\n",
              "    .dataframe tbody tr th {\n",
              "        vertical-align: top;\n",
              "    }\n",
              "\n",
              "    .dataframe thead th {\n",
              "        text-align: right;\n",
              "    }\n",
              "</style>\n",
              "<table border=\"1\" class=\"dataframe\">\n",
              "  <thead>\n",
              "    <tr style=\"text-align: right;\">\n",
              "      <th></th>\n",
              "      <th>Unnamed: 0</th>\n",
              "      <th>course_code</th>\n",
              "      <th>SUBJ_DESC</th>\n",
              "      <th>COLL_DESC</th>\n",
              "      <th>DEPT_DESC</th>\n",
              "      <th>Long_Title</th>\n",
              "      <th>COURSE_DESC</th>\n",
              "      <th>Related_To_Data_Science</th>\n",
              "    </tr>\n",
              "  </thead>\n",
              "  <tbody>\n",
              "    <tr>\n",
              "      <th>0</th>\n",
              "      <td>0</td>\n",
              "      <td>ACC-561</td>\n",
              "      <td>Accounting</td>\n",
              "      <td>Sch of Business and Economics</td>\n",
              "      <td>Accounting and Finance</td>\n",
              "      <td>Governmental and Nonprofit Accounting</td>\n",
              "      <td>This course will introduce students to account...</td>\n",
              "      <td>0</td>\n",
              "    </tr>\n",
              "    <tr>\n",
              "      <th>1</th>\n",
              "      <td>1</td>\n",
              "      <td>ACC-613</td>\n",
              "      <td>Accounting</td>\n",
              "      <td>Sch of Business and Economics</td>\n",
              "      <td>Accounting and Finance</td>\n",
              "      <td>Directed Studies in Accounting</td>\n",
              "      <td>Individual study of an issue or problem of int...</td>\n",
              "      <td>0</td>\n",
              "    </tr>\n",
              "    <tr>\n",
              "      <th>2</th>\n",
              "      <td>2</td>\n",
              "      <td>ACC-621</td>\n",
              "      <td>Accounting</td>\n",
              "      <td>Sch of Business and Economics</td>\n",
              "      <td>Accounting and Finance</td>\n",
              "      <td>Accounting Internship</td>\n",
              "      <td>Combined academic and work components allow st...</td>\n",
              "      <td>0</td>\n",
              "    </tr>\n",
              "    <tr>\n",
              "      <th>3</th>\n",
              "      <td>3</td>\n",
              "      <td>ACC-630</td>\n",
              "      <td>Accounting</td>\n",
              "      <td>Sch of Business and Economics</td>\n",
              "      <td>Accounting and Finance</td>\n",
              "      <td>Seminar in Contemporary Accounting Issues</td>\n",
              "      <td>Analysis, research, and presentation of curren...</td>\n",
              "      <td>0</td>\n",
              "    </tr>\n",
              "    <tr>\n",
              "      <th>4</th>\n",
              "      <td>4</td>\n",
              "      <td>ACC-631</td>\n",
              "      <td>Accounting</td>\n",
              "      <td>Sch of Business and Economics</td>\n",
              "      <td>Accounting and Finance</td>\n",
              "      <td>Advanced Auditing</td>\n",
              "      <td>Ethics, reporting, law, statistics, and audit ...</td>\n",
              "      <td>0</td>\n",
              "    </tr>\n",
              "  </tbody>\n",
              "</table>\n",
              "</div>"
            ]
          },
          "metadata": {
            "tags": []
          },
          "execution_count": 14
        }
      ]
    },
    {
      "cell_type": "code",
      "metadata": {
        "id": "qx85pYh0cSQ4",
        "colab_type": "code",
        "colab": {}
      },
      "source": [
        "df3 = df3.rename(columns = {\"Unnamed: 0\": \"ID\"})"
      ],
      "execution_count": 0,
      "outputs": []
    },
    {
      "cell_type": "code",
      "metadata": {
        "id": "YWMJHPWBc3Lw",
        "colab_type": "code",
        "outputId": "044939b1-7616-4d08-e99c-1b859d9efe80",
        "colab": {
          "base_uri": "https://localhost:8080/",
          "height": 289
        }
      },
      "source": [
        "df3.head()"
      ],
      "execution_count": 16,
      "outputs": [
        {
          "output_type": "execute_result",
          "data": {
            "text/plain": [
              "   ID  ... Related_To_Data_Science\n",
              "0   0  ...                       0\n",
              "1   1  ...                       0\n",
              "2   2  ...                       0\n",
              "3   3  ...                       0\n",
              "4   4  ...                       0\n",
              "\n",
              "[5 rows x 8 columns]"
            ],
            "text/html": [
              "<div>\n",
              "<style scoped>\n",
              "    .dataframe tbody tr th:only-of-type {\n",
              "        vertical-align: middle;\n",
              "    }\n",
              "\n",
              "    .dataframe tbody tr th {\n",
              "        vertical-align: top;\n",
              "    }\n",
              "\n",
              "    .dataframe thead th {\n",
              "        text-align: right;\n",
              "    }\n",
              "</style>\n",
              "<table border=\"1\" class=\"dataframe\">\n",
              "  <thead>\n",
              "    <tr style=\"text-align: right;\">\n",
              "      <th></th>\n",
              "      <th>ID</th>\n",
              "      <th>course_code</th>\n",
              "      <th>SUBJ_DESC</th>\n",
              "      <th>COLL_DESC</th>\n",
              "      <th>DEPT_DESC</th>\n",
              "      <th>Long_Title</th>\n",
              "      <th>COURSE_DESC</th>\n",
              "      <th>Related_To_Data_Science</th>\n",
              "    </tr>\n",
              "  </thead>\n",
              "  <tbody>\n",
              "    <tr>\n",
              "      <th>0</th>\n",
              "      <td>0</td>\n",
              "      <td>ACC-561</td>\n",
              "      <td>Accounting</td>\n",
              "      <td>Sch of Business and Economics</td>\n",
              "      <td>Accounting and Finance</td>\n",
              "      <td>Governmental and Nonprofit Accounting</td>\n",
              "      <td>This course will introduce students to account...</td>\n",
              "      <td>0</td>\n",
              "    </tr>\n",
              "    <tr>\n",
              "      <th>1</th>\n",
              "      <td>1</td>\n",
              "      <td>ACC-613</td>\n",
              "      <td>Accounting</td>\n",
              "      <td>Sch of Business and Economics</td>\n",
              "      <td>Accounting and Finance</td>\n",
              "      <td>Directed Studies in Accounting</td>\n",
              "      <td>Individual study of an issue or problem of int...</td>\n",
              "      <td>0</td>\n",
              "    </tr>\n",
              "    <tr>\n",
              "      <th>2</th>\n",
              "      <td>2</td>\n",
              "      <td>ACC-621</td>\n",
              "      <td>Accounting</td>\n",
              "      <td>Sch of Business and Economics</td>\n",
              "      <td>Accounting and Finance</td>\n",
              "      <td>Accounting Internship</td>\n",
              "      <td>Combined academic and work components allow st...</td>\n",
              "      <td>0</td>\n",
              "    </tr>\n",
              "    <tr>\n",
              "      <th>3</th>\n",
              "      <td>3</td>\n",
              "      <td>ACC-630</td>\n",
              "      <td>Accounting</td>\n",
              "      <td>Sch of Business and Economics</td>\n",
              "      <td>Accounting and Finance</td>\n",
              "      <td>Seminar in Contemporary Accounting Issues</td>\n",
              "      <td>Analysis, research, and presentation of curren...</td>\n",
              "      <td>0</td>\n",
              "    </tr>\n",
              "    <tr>\n",
              "      <th>4</th>\n",
              "      <td>4</td>\n",
              "      <td>ACC-631</td>\n",
              "      <td>Accounting</td>\n",
              "      <td>Sch of Business and Economics</td>\n",
              "      <td>Accounting and Finance</td>\n",
              "      <td>Advanced Auditing</td>\n",
              "      <td>Ethics, reporting, law, statistics, and audit ...</td>\n",
              "      <td>0</td>\n",
              "    </tr>\n",
              "  </tbody>\n",
              "</table>\n",
              "</div>"
            ]
          },
          "metadata": {
            "tags": []
          },
          "execution_count": 16
        }
      ]
    },
    {
      "cell_type": "code",
      "metadata": {
        "colab_type": "code",
        "id": "BFNhFIgWtVVX",
        "outputId": "8c866b09-ab78-45d8-c9d7-ddd18a74b329",
        "colab": {
          "base_uri": "https://localhost:8080/",
          "height": 34
        }
      },
      "source": [
        "cohen_kappa_score(df1['Related_To_Data_Science'], df2['Related_To_Data_Science'])"
      ],
      "execution_count": 17,
      "outputs": [
        {
          "output_type": "execute_result",
          "data": {
            "text/plain": [
              "0.5334981242911565"
            ]
          },
          "metadata": {
            "tags": []
          },
          "execution_count": 17
        }
      ]
    },
    {
      "cell_type": "code",
      "metadata": {
        "id": "7s93EDD1dLfq",
        "colab_type": "code",
        "outputId": "2c1e3291-b2b5-463b-9583-9b2e8016a594",
        "colab": {
          "base_uri": "https://localhost:8080/",
          "height": 34
        }
      },
      "source": [
        "cohen_kappa_score(df1['Related_To_Data_Science'], df3['Related_To_Data_Science'])"
      ],
      "execution_count": 18,
      "outputs": [
        {
          "output_type": "execute_result",
          "data": {
            "text/plain": [
              "0.5350782152712085"
            ]
          },
          "metadata": {
            "tags": []
          },
          "execution_count": 18
        }
      ]
    },
    {
      "cell_type": "code",
      "metadata": {
        "id": "8bWB9wlzdO7x",
        "colab_type": "code",
        "outputId": "d07ff2c1-be62-4b37-ed45-0307867cb8de",
        "colab": {
          "base_uri": "https://localhost:8080/",
          "height": 34
        }
      },
      "source": [
        "cohen_kappa_score(df2['Related_To_Data_Science'], df3['Related_To_Data_Science'])"
      ],
      "execution_count": 19,
      "outputs": [
        {
          "output_type": "execute_result",
          "data": {
            "text/plain": [
              "0.5040835912477404"
            ]
          },
          "metadata": {
            "tags": []
          },
          "execution_count": 19
        }
      ]
    },
    {
      "cell_type": "code",
      "metadata": {
        "colab_type": "code",
        "id": "3NZyuMiQ6Xe6",
        "colab": {}
      },
      "source": [
        "#Merging data frames \n",
        "df_n = pd.merge(df1, df2, on = ['ID'])"
      ],
      "execution_count": 0,
      "outputs": []
    },
    {
      "cell_type": "code",
      "metadata": {
        "id": "ppXlGy04dW52",
        "colab_type": "code",
        "colab": {}
      },
      "source": [
        "#Merging data frames\n",
        "df_n1 = pd.merge(df1, df3, on = ['ID'])"
      ],
      "execution_count": 0,
      "outputs": []
    },
    {
      "cell_type": "code",
      "metadata": {
        "id": "9d2UJ7AjddWu",
        "colab_type": "code",
        "colab": {}
      },
      "source": [
        "#Merging data frames\n",
        "df_n2 = pd.merge(df2, df3, on = ['ID'])"
      ],
      "execution_count": 0,
      "outputs": []
    },
    {
      "cell_type": "code",
      "metadata": {
        "id": "QroPP4RgY7HU",
        "colab_type": "code",
        "colab": {
          "base_uri": "https://localhost:8080/",
          "height": 1000
        },
        "outputId": "4fe4fe7c-ecbf-4ed7-8a38-686c89fe93b9"
      },
      "source": [
        "#Checking the results (df_n)\n",
        "def cal_dept(df_t):\n",
        "    k_score = cohen_kappa_score(df_t.Related_To_Data_Science_x, df_t.Related_To_Data_Science_y)\n",
        "    x_label = dict(df_t.Related_To_Data_Science_x.value_counts())\n",
        "    y_label = dict(df_t.Related_To_Data_Science_y.value_counts())\n",
        "    print \"=\"*40\n",
        "    print \"Department: %s\" % df_t.SUBJ_DESC_x.tolist()[0]\n",
        "    print \"Number of Courses: %d\" % len(df_t.DEPT_DESC_x)\n",
        "    print \"Courses Labeled by X: %s\" % str(x_label)\n",
        "    print \"Courses Labeled by Y: %s\" % str(y_label)\n",
        "    print \"Cohen Kappa Score: %f\" % k_score\n",
        "    print \"=\"*40\n",
        "df_n.groupby('SUBJ_DESC_x').apply(cal_dept)"
      ],
      "execution_count": 23,
      "outputs": [
        {
          "output_type": "stream",
          "text": [
            "========================================\n",
            "Department: Accounting\n",
            "Number of Courses: 16\n",
            "Courses Labeled by X: {0: 15, 1: 1}\n",
            "Courses Labeled by Y: {0: 15, 1: 1}\n",
            "Cohen Kappa Score: 1.000000\n",
            "========================================\n",
            "========================================\n",
            "Department: Accounting\n",
            "Number of Courses: 16\n",
            "Courses Labeled by X: {0: 15, 1: 1}\n",
            "Courses Labeled by Y: {0: 15, 1: 1}\n",
            "Cohen Kappa Score: 1.000000\n",
            "========================================\n",
            "========================================\n",
            "Department: African Amrcn/African Diaspora\n",
            "Number of Courses: 4\n",
            "Courses Labeled by X: {0: 4}\n",
            "Courses Labeled by Y: {0: 4}\n",
            "Cohen Kappa Score: nan\n",
            "========================================\n",
            "========================================\n",
            "Department: Anthropology\n",
            "Number of Courses: 2\n",
            "Courses Labeled by X: {0: 2}\n",
            "Courses Labeled by Y: {0: 2}\n",
            "Cohen Kappa Score: nan\n",
            "========================================\n",
            "========================================\n",
            "Department: Art\n",
            "Number of Courses: 13\n",
            "Courses Labeled by X: {0: 13}\n",
            "Courses Labeled by Y: {0: 13}\n",
            "Cohen Kappa Score: nan\n",
            "========================================\n",
            "========================================\n",
            "Department: Art History\n",
            "Number of Courses: 6\n",
            "Courses Labeled by X: {0: 6}\n",
            "Courses Labeled by Y: {0: 6}\n",
            "Cohen Kappa Score: nan\n",
            "========================================\n",
            "========================================\n",
            "Department: Biology\n",
            "Number of Courses: 58\n",
            "Courses Labeled by X: {0: 57, 1: 1}\n",
            "Courses Labeled by Y: {0: 57, 1: 1}\n",
            "Cohen Kappa Score: -0.017544\n",
            "========================================\n",
            "========================================\n",
            "Department: Business Administration\n",
            "Number of Courses: 26\n",
            "Courses Labeled by X: {0: 24, 1: 2}\n",
            "Courses Labeled by Y: {0: 25, 1: 1}\n",
            "Cohen Kappa Score: 0.648649\n",
            "========================================\n",
            "========================================\n",
            "Department: Chemistry\n",
            "Number of Courses: 34\n",
            "Courses Labeled by X: {0: 33, 1: 1}\n",
            "Courses Labeled by Y: {0: 33, 1: 1}\n",
            "Cohen Kappa Score: -0.030303\n",
            "========================================\n",
            "========================================\n",
            "Department: Classical Civilization\n",
            "Number of Courses: 1\n",
            "Courses Labeled by X: {0: 1}\n",
            "Courses Labeled by Y: {0: 1}\n",
            "Cohen Kappa Score: nan\n",
            "========================================\n",
            "========================================\n",
            "Department: Comm Sciences and Disorders\n",
            "Number of Courses: 30\n",
            "Courses Labeled by X: {0: 30}\n",
            "Courses Labeled by Y: {0: 29, 1: 1}\n",
            "Cohen Kappa Score: 0.000000\n",
            "========================================\n",
            "========================================\n",
            "Department: Comm Therap/Recr Studies\n",
            "Number of Courses: 12\n",
            "Courses Labeled by X: {0: 12}\n",
            "Courses Labeled by Y: {0: 12}\n",
            "Cohen Kappa Score: nan\n",
            "========================================\n",
            "========================================\n",
            "Department: Communication Studies\n",
            "Number of Courses: 13\n",
            "Courses Labeled by X: {0: 13}\n",
            "Courses Labeled by Y: {0: 13}\n",
            "Cohen Kappa Score: nan\n",
            "========================================\n",
            "========================================\n",
            "Department: Computer Science\n",
            "Number of Courses: 30\n",
            "Courses Labeled by X: {0: 17, 1: 13}\n",
            "Courses Labeled by Y: {0: 23, 1: 7}\n",
            "Cohen Kappa Score: 0.425837\n",
            "========================================\n",
            "========================================\n",
            "Department: Consumer, Apparel, Retail Stds\n",
            "Number of Courses: 17\n",
            "Courses Labeled by X: {0: 12, 1: 5}\n",
            "Courses Labeled by Y: {0: 15, 1: 2}\n",
            "Cohen Kappa Score: 0.484848\n",
            "========================================\n",
            "========================================\n",
            "Department: Counseling and Ed Devlp\n",
            "Number of Courses: 50\n",
            "Courses Labeled by X: {0: 50}\n",
            "Courses Labeled by Y: {0: 47, 1: 3}\n",
            "Cohen Kappa Score: 0.000000\n",
            "========================================\n",
            "========================================\n",
            "Department: Dance\n",
            "Number of Courses: 31\n",
            "Courses Labeled by X: {0: 31}\n",
            "Courses Labeled by Y: {0: 31}\n",
            "Cohen Kappa Score: nan\n",
            "========================================\n",
            "========================================\n",
            "Department: Economics\n",
            "Number of Courses: 28\n",
            "Courses Labeled by X: {0: 19, 1: 9}\n",
            "Courses Labeled by Y: {0: 21, 1: 7}\n",
            "Cohen Kappa Score: 0.652174\n",
            "========================================\n",
            "========================================\n",
            "Department: Educ Ldrship and Cultrl Fndts\n",
            "Number of Courses: 45\n",
            "Courses Labeled by X: {0: 43, 1: 2}\n",
            "Courses Labeled by Y: {0: 42, 1: 3}\n",
            "Cohen Kappa Score: 0.788732\n",
            "========================================\n",
            "========================================\n",
            "Department: Educatnl Research Methodology\n",
            "Number of Courses: 32\n",
            "Courses Labeled by X: {0: 15, 1: 17}\n",
            "Courses Labeled by Y: {0: 27, 1: 5}\n",
            "Cohen Kappa Score: 0.280899\n",
            "========================================\n",
            "========================================\n",
            "Department: English\n",
            "Number of Courses: 49\n",
            "Courses Labeled by X: {0: 48, 1: 1}\n",
            "Courses Labeled by Y: {0: 49}\n",
            "Cohen Kappa Score: 0.000000\n",
            "========================================\n",
            "========================================\n",
            "Department: English as a Second Language\n",
            "Number of Courses: 15\n",
            "Courses Labeled by X: {0: 15}\n",
            "Courses Labeled by Y: {0: 15}\n",
            "Cohen Kappa Score: nan\n",
            "========================================\n",
            "========================================\n",
            "Department: Entrepreneurship\n",
            "Number of Courses: 12\n",
            "Courses Labeled by X: {0: 12}\n",
            "Courses Labeled by Y: {0: 12}\n",
            "Cohen Kappa Score: nan\n",
            "========================================\n",
            "========================================\n",
            "Department: French\n",
            "Number of Courses: 9\n",
            "Courses Labeled by X: {0: 9}\n",
            "Courses Labeled by Y: {0: 9}\n",
            "Cohen Kappa Score: nan\n",
            "========================================\n",
            "========================================\n",
            "Department: Genetic Counseling\n",
            "Number of Courses: 17\n",
            "Courses Labeled by X: {0: 17}\n",
            "Courses Labeled by Y: {0: 17}\n",
            "Cohen Kappa Score: nan\n",
            "========================================\n",
            "========================================\n",
            "Department: Geogrphy,Envrnmnt,Sustainablty\n",
            "Number of Courses: 47\n",
            "Courses Labeled by X: {0: 40, 1: 7}\n",
            "Courses Labeled by Y: {0: 41, 1: 6}\n",
            "Cohen Kappa Score: 0.554080\n",
            "========================================\n",
            "========================================\n",
            "Department: Gerontology\n",
            "Number of Courses: 11\n",
            "Courses Labeled by X: {0: 11}\n",
            "Courses Labeled by Y: {0: 11}\n",
            "Cohen Kappa Score: nan\n",
            "========================================\n",
            "========================================\n",
            "Department: Health and Human Sciences\n",
            "Number of Courses: 13\n",
            "Courses Labeled by X: {0: 10, 1: 3}\n",
            "Courses Labeled by Y: {0: 11, 1: 2}\n",
            "Cohen Kappa Score: 0.264151\n",
            "========================================\n"
          ],
          "name": "stdout"
        },
        {
          "output_type": "stream",
          "text": [
            "/usr/local/lib/python2.7/dist-packages/sklearn/metrics/classification.py:373: RuntimeWarning: invalid value encountered in true_divide\n",
            "  k = np.sum(w_mat * confusion) / np.sum(w_mat * expected)\n"
          ],
          "name": "stderr"
        },
        {
          "output_type": "stream",
          "text": [
            "========================================\n",
            "Department: Higher Education\n",
            "Number of Courses: 16\n",
            "Courses Labeled by X: {0: 16}\n",
            "Courses Labeled by Y: {0: 16}\n",
            "Cohen Kappa Score: nan\n",
            "========================================\n",
            "========================================\n",
            "Department: History\n",
            "Number of Courses: 51\n",
            "Courses Labeled by X: {0: 51}\n",
            "Courses Labeled by Y: {0: 51}\n",
            "Cohen Kappa Score: nan\n",
            "========================================\n",
            "========================================\n",
            "Department: Human Develp / Family Studies\n",
            "Number of Courses: 30\n",
            "Courses Labeled by X: {0: 29, 1: 1}\n",
            "Courses Labeled by Y: {0: 29, 1: 1}\n",
            "Cohen Kappa Score: 1.000000\n",
            "========================================\n",
            "========================================\n",
            "Department: Info Sys and Operations Mngmt\n",
            "Number of Courses: 26\n",
            "Courses Labeled by X: {0: 21, 1: 5}\n",
            "Courses Labeled by Y: {0: 19, 1: 7}\n",
            "Cohen Kappa Score: 0.785124\n",
            "========================================\n",
            "========================================\n",
            "Department: Informatics / Analytics Fndtns\n",
            "Number of Courses: 6\n",
            "Courses Labeled by X: {1: 6}\n",
            "Courses Labeled by Y: {1: 6}\n",
            "Cohen Kappa Score: nan\n",
            "========================================\n",
            "========================================\n",
            "Department: Interior Architecture\n",
            "Number of Courses: 25\n",
            "Courses Labeled by X: {0: 24, 1: 1}\n",
            "Courses Labeled by Y: {0: 24, 1: 1}\n",
            "Cohen Kappa Score: 1.000000\n",
            "========================================\n",
            "========================================\n",
            "Department: Italian\n",
            "Number of Courses: 1\n",
            "Courses Labeled by X: {0: 1}\n",
            "Courses Labeled by Y: {0: 1}\n",
            "Cohen Kappa Score: nan\n",
            "========================================\n",
            "========================================\n",
            "Department: Kinesiology\n",
            "Number of Courses: 68\n",
            "Courses Labeled by X: {0: 65, 1: 3}\n",
            "Courses Labeled by Y: {0: 66, 1: 2}\n",
            "Cohen Kappa Score: 0.378049\n",
            "========================================\n",
            "========================================\n",
            "Department: Lang, Lit, & Cultures\n",
            "Number of Courses: 8\n",
            "Courses Labeled by X: {0: 8}\n",
            "Courses Labeled by Y: {0: 8}\n",
            "Cohen Kappa Score: nan\n",
            "========================================\n",
            "========================================\n",
            "Department: Latin\n",
            "Number of Courses: 2\n",
            "Courses Labeled by X: {0: 2}\n",
            "Courses Labeled by Y: {0: 2}\n",
            "Cohen Kappa Score: nan\n",
            "========================================\n",
            "========================================\n",
            "Department: Library/Information Studies\n",
            "Number of Courses: 43\n",
            "Courses Labeled by X: {0: 41, 1: 2}\n",
            "Courses Labeled by Y: {0: 39, 1: 4}\n",
            "Cohen Kappa Score: 0.644628\n",
            "========================================\n",
            "========================================\n",
            "Department: Marketing\n",
            "Number of Courses: 1\n",
            "Courses Labeled by X: {0: 1}\n",
            "Courses Labeled by Y: {0: 1}\n",
            "Cohen Kappa Score: nan\n",
            "========================================\n",
            "========================================\n",
            "Department: Master of Applied Arts/Science\n",
            "Number of Courses: 10\n",
            "Courses Labeled by X: {0: 10}\n",
            "Courses Labeled by Y: {0: 10}\n",
            "Cohen Kappa Score: nan\n",
            "========================================\n",
            "========================================\n",
            "Department: Master's in Business Admin\n",
            "Number of Courses: 23\n",
            "Courses Labeled by X: {0: 21, 1: 2}\n",
            "Courses Labeled by Y: {0: 21, 1: 2}\n",
            "Cohen Kappa Score: 0.452381\n",
            "========================================\n",
            "========================================\n",
            "Department: Mathematics\n",
            "Number of Courses: 48\n",
            "Courses Labeled by X: {0: 46, 1: 2}\n",
            "Courses Labeled by Y: {0: 48}\n",
            "Cohen Kappa Score: 0.000000\n",
            "========================================\n",
            "========================================\n",
            "Department: Media Studies\n",
            "Number of Courses: 13\n",
            "Courses Labeled by X: {0: 13}\n",
            "Courses Labeled by Y: {0: 13}\n",
            "Cohen Kappa Score: nan\n",
            "========================================\n",
            "========================================\n",
            "Department: Music Education\n",
            "Number of Courses: 21\n",
            "Courses Labeled by X: {0: 21}\n",
            "Courses Labeled by Y: {0: 21}\n",
            "Cohen Kappa Score: nan\n",
            "========================================\n",
            "========================================\n",
            "Department: Music Ensemble\n",
            "Number of Courses: 32\n",
            "Courses Labeled by X: {0: 32}\n",
            "Courses Labeled by Y: {0: 32}\n",
            "Cohen Kappa Score: nan\n",
            "========================================\n",
            "========================================\n",
            "Department: Music Performance\n",
            "Number of Courses: 37\n",
            "Courses Labeled by X: {0: 37}\n",
            "Courses Labeled by Y: {0: 37}\n",
            "Cohen Kappa Score: nan\n",
            "========================================\n",
            "========================================\n",
            "Department: Music Studies\n",
            "Number of Courses: 22\n",
            "Courses Labeled by X: {0: 22}\n",
            "Courses Labeled by Y: {0: 21, 1: 1}\n",
            "Cohen Kappa Score: 0.000000\n",
            "========================================\n",
            "========================================\n",
            "Department: Nanoscience\n",
            "Number of Courses: 28\n",
            "Courses Labeled by X: {0: 28}\n",
            "Courses Labeled by Y: {0: 27, 1: 1}\n",
            "Cohen Kappa Score: 0.000000\n",
            "========================================\n",
            "========================================\n",
            "Department: Nursing\n",
            "Number of Courses: 96\n",
            "Courses Labeled by X: {0: 88, 1: 8}\n",
            "Courses Labeled by Y: {0: 91, 1: 5}\n",
            "Cohen Kappa Score: 0.424658\n",
            "========================================\n",
            "========================================\n",
            "Department: Nutrition\n",
            "Number of Courses: 23\n",
            "Courses Labeled by X: {0: 23}\n",
            "Courses Labeled by Y: {0: 23}\n",
            "Cohen Kappa Score: nan\n",
            "========================================\n",
            "========================================\n",
            "Department: Peace and Conflict Studies\n",
            "Number of Courses: 23\n",
            "Courses Labeled by X: {0: 23}\n",
            "Courses Labeled by Y: {0: 23}\n",
            "Cohen Kappa Score: nan\n",
            "========================================\n",
            "========================================\n",
            "Department: Philosophy\n",
            "Number of Courses: 5\n",
            "Courses Labeled by X: {0: 5}\n",
            "Courses Labeled by Y: {0: 5}\n",
            "Cohen Kappa Score: nan\n",
            "========================================\n",
            "========================================\n",
            "Department: Physics\n",
            "Number of Courses: 2\n",
            "Courses Labeled by X: {0: 2}\n",
            "Courses Labeled by Y: {0: 2}\n",
            "Cohen Kappa Score: nan\n",
            "========================================\n",
            "========================================\n",
            "Department: Political Science\n",
            "Number of Courses: 38\n",
            "Courses Labeled by X: {0: 37, 1: 1}\n",
            "Courses Labeled by Y: {0: 34, 1: 4}\n",
            "Cohen Kappa Score: 0.373626\n",
            "========================================\n",
            "========================================\n",
            "Department: Psychology\n",
            "Number of Courses: 27\n",
            "Courses Labeled by X: {0: 25, 1: 2}\n",
            "Courses Labeled by Y: {0: 27}\n",
            "Cohen Kappa Score: 0.000000\n",
            "========================================\n",
            "========================================\n",
            "Department: Public Health\n",
            "Number of Courses: 32\n",
            "Courses Labeled by X: {0: 29, 1: 3}\n",
            "Courses Labeled by Y: {0: 29, 1: 3}\n",
            "Cohen Kappa Score: 0.632184\n",
            "========================================\n",
            "========================================\n",
            "Department: Religious Studies\n",
            "Number of Courses: 1\n",
            "Courses Labeled by X: {0: 1}\n",
            "Courses Labeled by Y: {0: 1}\n",
            "Cohen Kappa Score: nan\n",
            "========================================\n",
            "========================================\n",
            "Department: Retailing and Consumer Stds\n",
            "Number of Courses: 2\n",
            "Courses Labeled by X: {0: 1, 1: 1}\n",
            "Courses Labeled by Y: {0: 2}\n",
            "Cohen Kappa Score: 0.000000\n",
            "========================================\n",
            "========================================\n",
            "Department: Social Work\n",
            "Number of Courses: 37\n",
            "Courses Labeled by X: {0: 36, 1: 1}\n",
            "Courses Labeled by Y: {0: 35, 1: 2}\n",
            "Cohen Kappa Score: -0.037383\n",
            "========================================\n",
            "========================================\n",
            "Department: Sociology\n",
            "Number of Courses: 16\n",
            "Courses Labeled by X: {0: 14, 1: 2}\n",
            "Courses Labeled by Y: {0: 14, 1: 2}\n",
            "Cohen Kappa Score: 1.000000\n",
            "========================================\n",
            "========================================\n",
            "Department: Spanish\n",
            "Number of Courses: 13\n",
            "Courses Labeled by X: {0: 13}\n",
            "Courses Labeled by Y: {0: 13}\n",
            "Cohen Kappa Score: nan\n",
            "========================================\n",
            "========================================\n",
            "Department: Specialized Education Services\n",
            "Number of Courses: 35\n",
            "Courses Labeled by X: {0: 35}\n",
            "Courses Labeled by Y: {0: 35}\n",
            "Cohen Kappa Score: nan\n",
            "========================================\n",
            "========================================\n",
            "Department: Statistics\n",
            "Number of Courses: 30\n",
            "Courses Labeled by X: {0: 11, 1: 19}\n",
            "Courses Labeled by Y: {0: 21, 1: 9}\n",
            "Cohen Kappa Score: 0.156627\n",
            "========================================\n",
            "========================================\n",
            "Department: Supply Chain Management\n",
            "Number of Courses: 6\n",
            "Courses Labeled by X: {0: 4, 1: 2}\n",
            "Courses Labeled by Y: {0: 6}\n",
            "Cohen Kappa Score: 0.000000\n",
            "========================================\n",
            "========================================\n",
            "Department: Teacher Education\n",
            "Number of Courses: 78\n",
            "Courses Labeled by X: {0: 76, 1: 2}\n",
            "Courses Labeled by Y: {0: 74, 1: 4}\n",
            "Cohen Kappa Score: 0.654867\n",
            "========================================\n",
            "========================================\n",
            "Department: Theatre (THR)\n",
            "Number of Courses: 64\n",
            "Courses Labeled by X: {0: 64}\n",
            "Courses Labeled by Y: {0: 64}\n",
            "Cohen Kappa Score: nan\n",
            "========================================\n",
            "========================================\n",
            "Department: Visual and Performing Arts\n",
            "Number of Courses: 3\n",
            "Courses Labeled by X: {0: 3}\n",
            "Courses Labeled by Y: {0: 3}\n",
            "Cohen Kappa Score: nan\n",
            "========================================\n",
            "========================================\n",
            "Department: Women's and Gender Studies\n",
            "Number of Courses: 8\n",
            "Courses Labeled by X: {0: 8}\n",
            "Courses Labeled by Y: {0: 7, 1: 1}\n",
            "Cohen Kappa Score: 0.000000\n",
            "========================================\n"
          ],
          "name": "stdout"
        },
        {
          "output_type": "execute_result",
          "data": {
            "text/plain": [
              "Empty DataFrame\n",
              "Columns: []\n",
              "Index: []"
            ],
            "text/html": [
              "<div>\n",
              "<style scoped>\n",
              "    .dataframe tbody tr th:only-of-type {\n",
              "        vertical-align: middle;\n",
              "    }\n",
              "\n",
              "    .dataframe tbody tr th {\n",
              "        vertical-align: top;\n",
              "    }\n",
              "\n",
              "    .dataframe thead th {\n",
              "        text-align: right;\n",
              "    }\n",
              "</style>\n",
              "<table border=\"1\" class=\"dataframe\">\n",
              "  <thead>\n",
              "    <tr style=\"text-align: right;\">\n",
              "      <th></th>\n",
              "    </tr>\n",
              "  </thead>\n",
              "  <tbody>\n",
              "  </tbody>\n",
              "</table>\n",
              "</div>"
            ]
          },
          "metadata": {
            "tags": []
          },
          "execution_count": 23
        }
      ]
    },
    {
      "cell_type": "code",
      "metadata": {
        "id": "zbANysYZ3KYW",
        "colab_type": "code",
        "colab": {}
      },
      "source": [
        "#creating function\n",
        "def my_code(df_t):\n",
        "  k_score = str(cohen_kappa_score(df_t.Related_To_Data_Science_x, df_t.Related_To_Data_Science_y))\n",
        "  return k_score"
      ],
      "execution_count": 0,
      "outputs": []
    },
    {
      "cell_type": "code",
      "metadata": {
        "id": "fqDu4RgZwlnj",
        "colab_type": "code",
        "colab": {}
      },
      "source": [
        "#Applying function on the data frame\n",
        "ln = df_n.groupby('DEPT_DESC_x').apply(my_code).to_frame()"
      ],
      "execution_count": 0,
      "outputs": []
    },
    {
      "cell_type": "code",
      "metadata": {
        "id": "u39sPdK9PAOT",
        "colab_type": "code",
        "colab": {
          "base_uri": "https://localhost:8080/",
          "height": 952
        },
        "outputId": "398176c9-89d2-4337-9b0a-3061e1b743c5"
      },
      "source": [
        "#Checking keys\n",
        "ln.keys"
      ],
      "execution_count": 26,
      "outputs": [
        {
          "output_type": "execute_result",
          "data": {
            "text/plain": [
              "<bound method DataFrame.keys of                                                     0\n",
              "DEPT_DESC_x                                          \n",
              "Accounting and Finance                            1.0\n",
              "African Amer/African Diaspora                     nan\n",
              "Anthropology                                      nan\n",
              "Applied Arts and Sciences                         nan\n",
              "Biology                          -0.01754385964912286\n",
              "Chemistry & Biochemistry        -0.030303030303030276\n",
              "Classical Studies                                 nan\n",
              "Comm Science and Disord                           0.0\n",
              "Communication Studies                             nan\n",
              "Community and Therapeutic Rec                     nan\n",
              "Computer Science                   0.4258373205741627\n",
              "Cons, Apparel, and Ret Stds                   0.40625\n",
              "Counsel and Ed Development                        0.0\n",
              "Dean's Office - BE                0.45238095238095233\n",
              "Dean's Office - HH                0.26415094339622636\n",
              "Dean's Office - NN                                0.0\n",
              "Dean's Office - VP                                nan\n",
              "Economics                          0.6521739130434783\n",
              "Ed Ldrship & Cultural Found        0.7887323943661972\n",
              "Ed Research Methodology            0.2808988764044944\n",
              "English                                           0.0\n",
              "Genetic Counseling                                nan\n",
              "Geography/Environment/Sustain      0.5540796963946869\n",
              "History                                           nan\n",
              "Human Develop & Family Studies                    1.0\n",
              "Info Sys and Supply Chn Mngmt      0.6342857142857143\n",
              "Informatics and Analytics                         nan\n",
              "Interior Architecture                             1.0\n",
              "Kinesiology                        0.3780487804878049\n",
              "Languages, Lit and Cultures                       nan\n",
              "Library & Information Science      0.6446280991735538\n",
              "MRK/ENT/HTM                                       nan\n",
              "Management                         0.6486486486486487\n",
              "Mathematics and Statistics          0.363914373088685\n",
              "Media Studies                                     nan\n",
              "Nursing                           0.42465753424657526\n",
              "Nutrition                                         nan\n",
              "Peace and Conflict Studies                        nan\n",
              "Philosophy                                        nan\n",
              "Physics and Astronomy                             nan\n",
              "Political Science                 0.37362637362637363\n",
              "Psychology                                        0.0\n",
              "Public Health Education             0.632183908045977\n",
              "Religious Studies                                 nan\n",
              "School of Art                                     nan\n",
              "School of Dance                                   nan\n",
              "School of Music                                   0.0\n",
              "School of Theatre                                 nan\n",
              "Social Work                     -0.028571428571428692\n",
              "Sociology                                         1.0\n",
              "Specialized Education Services                    nan\n",
              "Teacher Ed/Higher Ed                0.658307210031348\n",
              "Women's and Gender Studies                        0.0>"
            ]
          },
          "metadata": {
            "tags": []
          },
          "execution_count": 26
        }
      ]
    },
    {
      "cell_type": "code",
      "metadata": {
        "id": "vE3aWQWjEi3j",
        "colab_type": "code",
        "outputId": "01a9644d-6aa0-446d-a850-591fde29aecc",
        "colab": {
          "base_uri": "https://localhost:8080/",
          "height": 34
        }
      },
      "source": [
        "type(ln)"
      ],
      "execution_count": 27,
      "outputs": [
        {
          "output_type": "execute_result",
          "data": {
            "text/plain": [
              "pandas.core.frame.DataFrame"
            ]
          },
          "metadata": {
            "tags": []
          },
          "execution_count": 27
        }
      ]
    },
    {
      "cell_type": "code",
      "metadata": {
        "id": "T5ePnXAIIVS2",
        "colab_type": "code",
        "colab": {}
      },
      "source": [
        "#Changing hashable name\n",
        "new_keys = {'k_score'}\n",
        "key = {'0: DEPT_DESC_x'}\n",
        "for key,n_key in zip(ln.keys(), new_keys):\n",
        "    ln[n_key] = ln.pop(key)"
      ],
      "execution_count": 0,
      "outputs": []
    },
    {
      "cell_type": "code",
      "metadata": {
        "id": "7hVHIe96XDH0",
        "colab_type": "code",
        "outputId": "71b8d141-470d-4a03-b155-ab31bb517c3e",
        "colab": {
          "base_uri": "https://localhost:8080/",
          "height": 235
        }
      },
      "source": [
        "#Checking name\n",
        "ln.head()"
      ],
      "execution_count": 29,
      "outputs": [
        {
          "output_type": "execute_result",
          "data": {
            "text/plain": [
              "                                            k_score\n",
              "DEPT_DESC_x                                        \n",
              "Accounting and Finance                          1.0\n",
              "African Amer/African Diaspora                   nan\n",
              "Anthropology                                    nan\n",
              "Applied Arts and Sciences                       nan\n",
              "Biology                        -0.01754385964912286"
            ],
            "text/html": [
              "<div>\n",
              "<style scoped>\n",
              "    .dataframe tbody tr th:only-of-type {\n",
              "        vertical-align: middle;\n",
              "    }\n",
              "\n",
              "    .dataframe tbody tr th {\n",
              "        vertical-align: top;\n",
              "    }\n",
              "\n",
              "    .dataframe thead th {\n",
              "        text-align: right;\n",
              "    }\n",
              "</style>\n",
              "<table border=\"1\" class=\"dataframe\">\n",
              "  <thead>\n",
              "    <tr style=\"text-align: right;\">\n",
              "      <th></th>\n",
              "      <th>k_score</th>\n",
              "    </tr>\n",
              "    <tr>\n",
              "      <th>DEPT_DESC_x</th>\n",
              "      <th></th>\n",
              "    </tr>\n",
              "  </thead>\n",
              "  <tbody>\n",
              "    <tr>\n",
              "      <th>Accounting and Finance</th>\n",
              "      <td>1.0</td>\n",
              "    </tr>\n",
              "    <tr>\n",
              "      <th>African Amer/African Diaspora</th>\n",
              "      <td>nan</td>\n",
              "    </tr>\n",
              "    <tr>\n",
              "      <th>Anthropology</th>\n",
              "      <td>nan</td>\n",
              "    </tr>\n",
              "    <tr>\n",
              "      <th>Applied Arts and Sciences</th>\n",
              "      <td>nan</td>\n",
              "    </tr>\n",
              "    <tr>\n",
              "      <th>Biology</th>\n",
              "      <td>-0.01754385964912286</td>\n",
              "    </tr>\n",
              "  </tbody>\n",
              "</table>\n",
              "</div>"
            ]
          },
          "metadata": {
            "tags": []
          },
          "execution_count": 29
        }
      ]
    },
    {
      "cell_type": "code",
      "metadata": {
        "id": "3N6hozCZDiYB",
        "colab_type": "code",
        "colab": {}
      },
      "source": [
        "#merging dataframes \n",
        "final = pd.DataFrame(pd.merge(df_n, ln, on = ['DEPT_DESC_x']))"
      ],
      "execution_count": 0,
      "outputs": []
    },
    {
      "cell_type": "code",
      "metadata": {
        "id": "dg-AntbaXikJ",
        "colab_type": "code",
        "colab": {}
      },
      "source": [
        "#removing nan as the research focused on the agreement \n",
        "final = final[final.k_score != 'nan']"
      ],
      "execution_count": 0,
      "outputs": []
    },
    {
      "cell_type": "code",
      "metadata": {
        "id": "SJSbieN2g0L1",
        "colab_type": "code",
        "colab": {
          "base_uri": "https://localhost:8080/",
          "height": 1000
        },
        "outputId": "8d345852-1342-4d8a-e7c5-86c9849bcb24"
      },
      "source": [
        "#Checking results (df_n1)\n",
        "def cal_dept(df_t):\n",
        "    k_score = cohen_kappa_score(df_t.Related_To_Data_Science_x, df_t.Related_To_Data_Science_y)\n",
        "    x_label = dict(df_t.Related_To_Data_Science_x.value_counts())\n",
        "    y_label = dict(df_t.Related_To_Data_Science_y.value_counts())\n",
        "    print \"=\"*40\n",
        "    print \"Department: %s\" % df_t.SUBJ_DESC_x.tolist()[0]\n",
        "    print \"Number of Courses: %d\" % len(df_t.DEPT_DESC_x)\n",
        "    print \"Courses Labeled by X: %s\" % str(x_label)\n",
        "    print \"Courses Labeled by Y: %s\" % str(y_label)\n",
        "    print \"Cohen Kappa Score: %f\" % k_score\n",
        "    print \"=\"*40\n",
        "\n",
        "pd.DataFrame(df_n1.groupby('SUBJ_DESC_x').apply(cal_dept))"
      ],
      "execution_count": 32,
      "outputs": [
        {
          "output_type": "stream",
          "text": [
            "========================================\n",
            "Department: Accounting\n",
            "Number of Courses: 16\n",
            "Courses Labeled by X: {0: 15, 1: 1}\n",
            "Courses Labeled by Y: {0: 15, 1: 1}\n",
            "Cohen Kappa Score: 1.000000\n",
            "========================================\n",
            "========================================\n",
            "Department: Accounting\n",
            "Number of Courses: 16\n",
            "Courses Labeled by X: {0: 15, 1: 1}\n",
            "Courses Labeled by Y: {0: 15, 1: 1}\n",
            "Cohen Kappa Score: 1.000000\n",
            "========================================\n",
            "========================================\n",
            "Department: African Amrcn/African Diaspora\n",
            "Number of Courses: 4\n",
            "Courses Labeled by X: {0: 4}\n",
            "Courses Labeled by Y: {0: 4}\n",
            "Cohen Kappa Score: nan\n",
            "========================================\n",
            "========================================\n",
            "Department: Anthropology\n",
            "Number of Courses: 2\n",
            "Courses Labeled by X: {0: 2}\n",
            "Courses Labeled by Y: {0: 2}\n",
            "Cohen Kappa Score: nan\n",
            "========================================\n",
            "========================================\n",
            "Department: Art\n",
            "Number of Courses: 13\n",
            "Courses Labeled by X: {0: 13}\n",
            "Courses Labeled by Y: {0: 13}\n",
            "Cohen Kappa Score: nan\n",
            "========================================\n",
            "========================================\n",
            "Department: Art History\n",
            "Number of Courses: 6\n",
            "Courses Labeled by X: {0: 6}\n",
            "Courses Labeled by Y: {0: 6}\n",
            "Cohen Kappa Score: nan\n",
            "========================================\n",
            "========================================\n",
            "Department: Biology\n",
            "Number of Courses: 58\n",
            "Courses Labeled by X: {0: 57, 1: 1}\n",
            "Courses Labeled by Y: {0: 57, 1: 1}\n",
            "Cohen Kappa Score: -0.017544\n",
            "========================================\n",
            "========================================\n",
            "Department: Business Administration\n",
            "Number of Courses: 26\n",
            "Courses Labeled by X: {0: 24, 1: 2}\n",
            "Courses Labeled by Y: {0: 24, 1: 2}\n",
            "Cohen Kappa Score: 0.458333\n",
            "========================================\n",
            "========================================\n",
            "Department: Chemistry\n",
            "Number of Courses: 34\n",
            "Courses Labeled by X: {0: 33, 1: 1}\n",
            "Courses Labeled by Y: {0: 34}\n",
            "Cohen Kappa Score: 0.000000\n",
            "========================================\n",
            "========================================\n",
            "Department: Classical Civilization\n",
            "Number of Courses: 1\n",
            "Courses Labeled by X: {0: 1}\n",
            "Courses Labeled by Y: {0: 1}\n",
            "Cohen Kappa Score: nan\n",
            "========================================\n",
            "========================================\n",
            "Department: Comm Sciences and Disorders\n",
            "Number of Courses: 30\n",
            "Courses Labeled by X: {0: 30}\n",
            "Courses Labeled by Y: {0: 30}\n",
            "Cohen Kappa Score: nan\n",
            "========================================\n",
            "========================================\n",
            "Department: Comm Therap/Recr Studies\n",
            "Number of Courses: 12\n",
            "Courses Labeled by X: {0: 12}\n",
            "Courses Labeled by Y: {0: 12}\n",
            "Cohen Kappa Score: nan\n",
            "========================================\n",
            "========================================\n",
            "Department: Communication Studies\n",
            "Number of Courses: 13\n",
            "Courses Labeled by X: {0: 13}\n",
            "Courses Labeled by Y: {0: 13}\n",
            "Cohen Kappa Score: nan\n",
            "========================================\n",
            "========================================\n",
            "Department: Computer Science\n",
            "Number of Courses: 30\n",
            "Courses Labeled by X: {0: 17, 1: 13}\n",
            "Courses Labeled by Y: {0: 22, 1: 8}\n",
            "Cohen Kappa Score: 0.644550\n",
            "========================================\n",
            "========================================\n",
            "Department: Consumer, Apparel, Retail Stds\n",
            "Number of Courses: 17\n",
            "Courses Labeled by X: {0: 12, 1: 5}\n",
            "Courses Labeled by Y: {0: 17}\n",
            "Cohen Kappa Score: 0.000000\n",
            "========================================\n",
            "========================================\n",
            "Department: Counseling and Ed Devlp\n",
            "Number of Courses: 50\n",
            "Courses Labeled by X: {0: 50}\n",
            "Courses Labeled by Y: {0: 50}\n",
            "Cohen Kappa Score: nan\n",
            "========================================\n",
            "========================================\n",
            "Department: Dance\n",
            "Number of Courses: 31\n",
            "Courses Labeled by X: {0: 31}\n",
            "Courses Labeled by Y: {0: 31}\n",
            "Cohen Kappa Score: nan\n",
            "========================================\n",
            "========================================\n",
            "Department: Economics\n",
            "Number of Courses: 28\n",
            "Courses Labeled by X: {0: 19, 1: 9}\n",
            "Courses Labeled by Y: {0: 26, 1: 2}\n",
            "Cohen Kappa Score: 0.279412\n",
            "========================================\n",
            "========================================\n",
            "Department: Educ Ldrship and Cultrl Fndts\n",
            "Number of Courses: 45\n",
            "Courses Labeled by X: {0: 43, 1: 2}\n",
            "Courses Labeled by Y: {0: 45}\n",
            "Cohen Kappa Score: 0.000000\n",
            "========================================\n",
            "========================================\n",
            "Department: Educatnl Research Methodology\n",
            "Number of Courses: 32\n",
            "Courses Labeled by X: {0: 15, 1: 17}\n",
            "Courses Labeled by Y: {0: 24, 1: 8}\n",
            "Cohen Kappa Score: 0.333333\n",
            "========================================\n",
            "========================================\n",
            "Department: English\n",
            "Number of Courses: 49\n",
            "Courses Labeled by X: {0: 48, 1: 1}\n",
            "Courses Labeled by Y: {0: 49}\n",
            "Cohen Kappa Score: 0.000000\n",
            "========================================\n",
            "========================================\n",
            "Department: English as a Second Language\n",
            "Number of Courses: 15\n",
            "Courses Labeled by X: {0: 15}\n",
            "Courses Labeled by Y: {0: 15}\n",
            "Cohen Kappa Score: nan\n",
            "========================================\n",
            "========================================\n",
            "Department: Entrepreneurship\n",
            "Number of Courses: 12\n",
            "Courses Labeled by X: {0: 12}\n",
            "Courses Labeled by Y: {0: 12}\n",
            "Cohen Kappa Score: nan\n",
            "========================================\n",
            "========================================\n",
            "Department: French\n",
            "Number of Courses: 9\n",
            "Courses Labeled by X: {0: 9}\n",
            "Courses Labeled by Y: {0: 9}\n",
            "Cohen Kappa Score: nan\n",
            "========================================\n",
            "========================================\n",
            "Department: Genetic Counseling\n",
            "Number of Courses: 17\n",
            "Courses Labeled by X: {0: 17}\n",
            "Courses Labeled by Y: {0: 17}\n",
            "Cohen Kappa Score: nan\n",
            "========================================\n",
            "========================================\n",
            "Department: Geogrphy,Envrnmnt,Sustainablty\n",
            "Number of Courses: 47\n",
            "Courses Labeled by X: {0: 40, 1: 7}\n",
            "Courses Labeled by Y: {0: 37, 1: 10}\n",
            "Cohen Kappa Score: 0.786039\n",
            "========================================\n",
            "========================================\n",
            "Department: Gerontology\n",
            "Number of Courses: 11\n",
            "Courses Labeled by X: {0: 11}\n",
            "Courses Labeled by Y: {0: 11}\n",
            "Cohen Kappa Score: nan\n",
            "========================================\n",
            "========================================\n",
            "Department: Health and Human Sciences\n",
            "Number of Courses: 13\n",
            "Courses Labeled by X: {0: 10, 1: 3}\n",
            "Courses Labeled by Y: {0: 13}\n",
            "Cohen Kappa Score: 0.000000\n",
            "========================================\n",
            "========================================\n",
            "Department: Higher Education\n",
            "Number of Courses: 16\n",
            "Courses Labeled by X: {0: 16}\n",
            "Courses Labeled by Y: {0: 16}\n",
            "Cohen Kappa Score: nan\n",
            "========================================\n",
            "========================================\n",
            "Department: History\n",
            "Number of Courses: 51\n",
            "Courses Labeled by X: {0: 51}\n",
            "Courses Labeled by Y: {0: 51}\n",
            "Cohen Kappa Score: nan\n",
            "========================================\n",
            "========================================\n",
            "Department: Human Develp / Family Studies\n",
            "Number of Courses: 30\n",
            "Courses Labeled by X: {0: 29, 1: 1}\n",
            "Courses Labeled by Y: {0: 29, 1: 1}\n",
            "Cohen Kappa Score: 1.000000\n",
            "========================================\n",
            "========================================\n",
            "Department: Info Sys and Operations Mngmt\n",
            "Number of Courses: 26\n",
            "Courses Labeled by X: {0: 21, 1: 5}\n",
            "Courses Labeled by Y: {0: 18, 1: 8}\n",
            "Cohen Kappa Score: 0.697674\n",
            "========================================\n",
            "========================================\n",
            "Department: Informatics / Analytics Fndtns\n",
            "Number of Courses: 6\n",
            "Courses Labeled by X: {1: 6}\n",
            "Courses Labeled by Y: {1: 6}\n",
            "Cohen Kappa Score: nan\n",
            "========================================\n",
            "========================================\n",
            "Department: Interior Architecture\n",
            "Number of Courses: 25\n",
            "Courses Labeled by X: {0: 24, 1: 1}\n",
            "Courses Labeled by Y: {0: 25}\n",
            "Cohen Kappa Score: 0.000000\n",
            "========================================\n",
            "========================================\n",
            "Department: Italian\n",
            "Number of Courses: 1\n",
            "Courses Labeled by X: {0: 1}\n",
            "Courses Labeled by Y: {0: 1}\n",
            "Cohen Kappa Score: nan\n",
            "========================================\n",
            "========================================\n",
            "Department: Kinesiology\n",
            "Number of Courses: 68\n",
            "Courses Labeled by X: {0: 65, 1: 3}\n",
            "Courses Labeled by Y: {0: 67, 1: 1}\n",
            "Cohen Kappa Score: 0.488722\n",
            "========================================\n",
            "========================================\n",
            "Department: Lang, Lit, & Cultures\n",
            "Number of Courses: 8\n",
            "Courses Labeled by X: {0: 8}\n",
            "Courses Labeled by Y: {0: 8}\n",
            "Cohen Kappa Score: nan\n",
            "========================================\n",
            "========================================\n",
            "Department: Latin\n",
            "Number of Courses: 2\n",
            "Courses Labeled by X: {0: 2}\n",
            "Courses Labeled by Y: {0: 2}\n",
            "Cohen Kappa Score: nan\n",
            "========================================\n",
            "========================================\n",
            "Department: Library/Information Studies\n",
            "Number of Courses: 43\n",
            "Courses Labeled by X: {0: 41, 1: 2}\n",
            "Courses Labeled by Y: {0: 41, 1: 2}\n",
            "Cohen Kappa Score: 0.475610\n",
            "========================================\n",
            "========================================\n",
            "Department: Marketing\n",
            "Number of Courses: 1\n",
            "Courses Labeled by X: {0: 1}\n",
            "Courses Labeled by Y: {0: 1}\n",
            "Cohen Kappa Score: nan\n",
            "========================================\n",
            "========================================\n",
            "Department: Master of Applied Arts/Science\n",
            "Number of Courses: 10\n",
            "Courses Labeled by X: {0: 10}\n",
            "Courses Labeled by Y: {0: 10}\n",
            "Cohen Kappa Score: nan\n",
            "========================================\n",
            "========================================\n",
            "Department: Master's in Business Admin\n",
            "Number of Courses: 23\n",
            "Courses Labeled by X: {0: 21, 1: 2}\n",
            "Courses Labeled by Y: {0: 23}\n",
            "Cohen Kappa Score: 0.000000\n",
            "========================================\n",
            "========================================\n",
            "Department: Mathematics\n",
            "Number of Courses: 48\n",
            "Courses Labeled by X: {0: 46, 1: 2}\n",
            "Courses Labeled by Y: {0: 48}\n",
            "Cohen Kappa Score: 0.000000\n",
            "========================================\n",
            "========================================\n",
            "Department: Media Studies\n",
            "Number of Courses: 13\n",
            "Courses Labeled by X: {0: 13}\n",
            "Courses Labeled by Y: {0: 13}\n",
            "Cohen Kappa Score: nan\n",
            "========================================\n",
            "========================================\n",
            "Department: Music Education\n",
            "Number of Courses: 21\n",
            "Courses Labeled by X: {0: 21}\n",
            "Courses Labeled by Y: {0: 21}\n",
            "Cohen Kappa Score: nan\n",
            "========================================\n",
            "========================================\n",
            "Department: Music Ensemble\n",
            "Number of Courses: 32\n",
            "Courses Labeled by X: {0: 32}\n",
            "Courses Labeled by Y: {0: 32}\n",
            "Cohen Kappa Score: nan\n",
            "========================================\n",
            "========================================\n",
            "Department: Music Performance\n",
            "Number of Courses: 37\n",
            "Courses Labeled by X: {0: 37}\n",
            "Courses Labeled by Y: {0: 37}\n",
            "Cohen Kappa Score: nan\n",
            "========================================\n",
            "========================================\n",
            "Department: Music Studies\n",
            "Number of Courses: 22\n",
            "Courses Labeled by X: {0: 22}\n",
            "Courses Labeled by Y: {0: 22}\n",
            "Cohen Kappa Score: nan\n",
            "========================================\n",
            "========================================\n",
            "Department: Nanoscience\n",
            "Number of Courses: 28\n",
            "Courses Labeled by X: {0: 28}\n",
            "Courses Labeled by Y: {0: 28}\n",
            "Cohen Kappa Score: nan\n",
            "========================================\n",
            "========================================\n",
            "Department: Nursing\n",
            "Number of Courses: 96\n",
            "Courses Labeled by X: {0: 88, 1: 8}\n",
            "Courses Labeled by Y: {0: 93, 1: 3}\n",
            "Cohen Kappa Score: 0.333333\n",
            "========================================\n",
            "========================================\n",
            "Department: Nutrition\n",
            "Number of Courses: 23\n",
            "Courses Labeled by X: {0: 23}\n",
            "Courses Labeled by Y: {0: 23}\n",
            "Cohen Kappa Score: nan\n",
            "========================================\n",
            "========================================\n",
            "Department: Peace and Conflict Studies\n",
            "Number of Courses: 23\n",
            "Courses Labeled by X: {0: 23}\n",
            "Courses Labeled by Y: {0: 23}\n",
            "Cohen Kappa Score: nan\n",
            "========================================\n",
            "========================================\n",
            "Department: Philosophy\n",
            "Number of Courses: 5\n",
            "Courses Labeled by X: {0: 5}\n",
            "Courses Labeled by Y: {0: 5}\n",
            "Cohen Kappa Score: nan\n",
            "========================================\n",
            "========================================\n",
            "Department: Physics\n",
            "Number of Courses: 2\n",
            "Courses Labeled by X: {0: 2}\n",
            "Courses Labeled by Y: {0: 2}\n",
            "Cohen Kappa Score: nan\n",
            "========================================\n",
            "========================================\n",
            "Department: Political Science\n",
            "Number of Courses: 38\n",
            "Courses Labeled by X: {0: 37, 1: 1}\n",
            "Courses Labeled by Y: {0: 38}\n",
            "Cohen Kappa Score: 0.000000\n",
            "========================================\n",
            "========================================\n",
            "Department: Psychology\n",
            "Number of Courses: 27\n",
            "Courses Labeled by X: {0: 25, 1: 2}\n",
            "Courses Labeled by Y: {0: 25, 1: 2}\n",
            "Cohen Kappa Score: 1.000000\n",
            "========================================\n",
            "========================================\n",
            "Department: Public Health\n",
            "Number of Courses: 32\n",
            "Courses Labeled by X: {0: 29, 1: 3}\n",
            "Courses Labeled by Y: {0: 31, 1: 1}\n",
            "Cohen Kappa Score: 0.475410\n",
            "========================================\n",
            "========================================\n",
            "Department: Religious Studies\n",
            "Number of Courses: 1\n",
            "Courses Labeled by X: {0: 1}\n",
            "Courses Labeled by Y: {0: 1}\n",
            "Cohen Kappa Score: nan\n",
            "========================================\n",
            "========================================\n",
            "Department: Retailing and Consumer Stds\n",
            "Number of Courses: 2\n",
            "Courses Labeled by X: {0: 1, 1: 1}\n",
            "Courses Labeled by Y: {0: 2}\n",
            "Cohen Kappa Score: 0.000000\n",
            "========================================\n",
            "========================================\n",
            "Department: Social Work\n",
            "Number of Courses: 37\n",
            "Courses Labeled by X: {0: 36, 1: 1}\n",
            "Courses Labeled by Y: {0: 36, 1: 1}\n",
            "Cohen Kappa Score: -0.027778\n",
            "========================================\n",
            "========================================\n",
            "Department: Sociology\n",
            "Number of Courses: 16\n",
            "Courses Labeled by X: {0: 14, 1: 2}\n",
            "Courses Labeled by Y: {0: 15, 1: 1}\n",
            "Cohen Kappa Score: 0.636364\n",
            "========================================\n",
            "========================================\n",
            "Department: Spanish\n",
            "Number of Courses: 13\n",
            "Courses Labeled by X: {0: 13}\n",
            "Courses Labeled by Y: {0: 13}\n",
            "Cohen Kappa Score: nan\n",
            "========================================\n",
            "========================================\n",
            "Department: Specialized Education Services\n",
            "Number of Courses: 35\n",
            "Courses Labeled by X: {0: 35}\n",
            "Courses Labeled by Y: {0: 35}\n",
            "Cohen Kappa Score: nan\n",
            "========================================\n",
            "========================================\n",
            "Department: Statistics\n",
            "Number of Courses: 30\n",
            "Courses Labeled by X: {0: 11, 1: 19}\n",
            "Courses Labeled by Y: {0: 20, 1: 10}\n",
            "Cohen Kappa Score: 0.204082\n",
            "========================================\n",
            "========================================\n",
            "Department: Supply Chain Management\n",
            "Number of Courses: 6\n",
            "Courses Labeled by X: {0: 4, 1: 2}\n",
            "Courses Labeled by Y: {0: 6}\n",
            "Cohen Kappa Score: 0.000000\n",
            "========================================\n",
            "========================================\n",
            "Department: Teacher Education\n",
            "Number of Courses: 78\n",
            "Courses Labeled by X: {0: 76, 1: 2}\n",
            "Courses Labeled by Y: {0: 78}\n",
            "Cohen Kappa Score: 0.000000\n",
            "========================================\n",
            "========================================\n",
            "Department: Theatre (THR)\n",
            "Number of Courses: 64\n",
            "Courses Labeled by X: {0: 64}\n",
            "Courses Labeled by Y: {0: 64}\n",
            "Cohen Kappa Score: nan\n",
            "========================================\n",
            "========================================\n",
            "Department: Visual and Performing Arts\n",
            "Number of Courses: 3\n",
            "Courses Labeled by X: {0: 3}\n",
            "Courses Labeled by Y: {0: 3}\n",
            "Cohen Kappa Score: nan\n",
            "========================================\n",
            "========================================\n",
            "Department: Women's and Gender Studies\n",
            "Number of Courses: 8\n",
            "Courses Labeled by X: {0: 8}\n",
            "Courses Labeled by Y: {0: 8}\n",
            "Cohen Kappa Score: nan\n",
            "========================================\n"
          ],
          "name": "stdout"
        },
        {
          "output_type": "execute_result",
          "data": {
            "text/plain": [
              "Empty DataFrame\n",
              "Columns: []\n",
              "Index: []"
            ],
            "text/html": [
              "<div>\n",
              "<style scoped>\n",
              "    .dataframe tbody tr th:only-of-type {\n",
              "        vertical-align: middle;\n",
              "    }\n",
              "\n",
              "    .dataframe tbody tr th {\n",
              "        vertical-align: top;\n",
              "    }\n",
              "\n",
              "    .dataframe thead th {\n",
              "        text-align: right;\n",
              "    }\n",
              "</style>\n",
              "<table border=\"1\" class=\"dataframe\">\n",
              "  <thead>\n",
              "    <tr style=\"text-align: right;\">\n",
              "      <th></th>\n",
              "    </tr>\n",
              "  </thead>\n",
              "  <tbody>\n",
              "  </tbody>\n",
              "</table>\n",
              "</div>"
            ]
          },
          "metadata": {
            "tags": []
          },
          "execution_count": 32
        }
      ]
    },
    {
      "cell_type": "code",
      "metadata": {
        "id": "mrmLzmZag0fa",
        "colab_type": "code",
        "colab": {}
      },
      "source": [
        "#Applying function (df_n1)\n",
        "ln1 = df_n1.groupby('DEPT_DESC_x').apply(my_code).to_frame()"
      ],
      "execution_count": 0,
      "outputs": []
    },
    {
      "cell_type": "code",
      "metadata": {
        "id": "D_N8nGXLg0rh",
        "colab_type": "code",
        "colab": {}
      },
      "source": [
        "new_keys = {'k_score'}\n",
        "key = {'0: DEPT_DESC_x'}\n",
        "for key,n_key in zip(ln1.keys(), new_keys):\n",
        "    ln1[n_key] = ln1.pop(key)"
      ],
      "execution_count": 0,
      "outputs": []
    },
    {
      "cell_type": "code",
      "metadata": {
        "id": "30sGvTZvg01C",
        "colab_type": "code",
        "colab": {
          "base_uri": "https://localhost:8080/",
          "height": 235
        },
        "outputId": "82edae24-18a5-4d42-f10f-ae6b51a5fcc7"
      },
      "source": [
        "ln1.head()"
      ],
      "execution_count": 35,
      "outputs": [
        {
          "output_type": "execute_result",
          "data": {
            "text/plain": [
              "                                            k_score\n",
              "DEPT_DESC_x                                        \n",
              "Accounting and Finance                          1.0\n",
              "African Amer/African Diaspora                   nan\n",
              "Anthropology                                    nan\n",
              "Applied Arts and Sciences                       nan\n",
              "Biology                        -0.01754385964912286"
            ],
            "text/html": [
              "<div>\n",
              "<style scoped>\n",
              "    .dataframe tbody tr th:only-of-type {\n",
              "        vertical-align: middle;\n",
              "    }\n",
              "\n",
              "    .dataframe tbody tr th {\n",
              "        vertical-align: top;\n",
              "    }\n",
              "\n",
              "    .dataframe thead th {\n",
              "        text-align: right;\n",
              "    }\n",
              "</style>\n",
              "<table border=\"1\" class=\"dataframe\">\n",
              "  <thead>\n",
              "    <tr style=\"text-align: right;\">\n",
              "      <th></th>\n",
              "      <th>k_score</th>\n",
              "    </tr>\n",
              "    <tr>\n",
              "      <th>DEPT_DESC_x</th>\n",
              "      <th></th>\n",
              "    </tr>\n",
              "  </thead>\n",
              "  <tbody>\n",
              "    <tr>\n",
              "      <th>Accounting and Finance</th>\n",
              "      <td>1.0</td>\n",
              "    </tr>\n",
              "    <tr>\n",
              "      <th>African Amer/African Diaspora</th>\n",
              "      <td>nan</td>\n",
              "    </tr>\n",
              "    <tr>\n",
              "      <th>Anthropology</th>\n",
              "      <td>nan</td>\n",
              "    </tr>\n",
              "    <tr>\n",
              "      <th>Applied Arts and Sciences</th>\n",
              "      <td>nan</td>\n",
              "    </tr>\n",
              "    <tr>\n",
              "      <th>Biology</th>\n",
              "      <td>-0.01754385964912286</td>\n",
              "    </tr>\n",
              "  </tbody>\n",
              "</table>\n",
              "</div>"
            ]
          },
          "metadata": {
            "tags": []
          },
          "execution_count": 35
        }
      ]
    },
    {
      "cell_type": "code",
      "metadata": {
        "id": "6A99WeNihFrk",
        "colab_type": "code",
        "colab": {}
      },
      "source": [
        "final1 = pd.DataFrame(pd.merge(df_n1, ln1, on = ['DEPT_DESC_x']))"
      ],
      "execution_count": 0,
      "outputs": []
    },
    {
      "cell_type": "code",
      "metadata": {
        "id": "B_i67yPDhFz_",
        "colab_type": "code",
        "colab": {}
      },
      "source": [
        "final1 = final1[final1.k_score != 'nan']"
      ],
      "execution_count": 0,
      "outputs": []
    },
    {
      "cell_type": "code",
      "metadata": {
        "id": "2DhYTxmbhF7e",
        "colab_type": "code",
        "colab": {}
      },
      "source": [
        ""
      ],
      "execution_count": 0,
      "outputs": []
    },
    {
      "cell_type": "code",
      "metadata": {
        "id": "0CJ4Km5chPJN",
        "colab_type": "code",
        "colab": {
          "base_uri": "https://localhost:8080/",
          "height": 1000
        },
        "outputId": "c76385ac-d5e4-4645-851c-6db5d6f45598"
      },
      "source": [
        "#Checking results (df_n2)\n",
        "def cal_dept(df_t):\n",
        "    k_score = cohen_kappa_score(df_t.Related_To_Data_Science_x, df_t.Related_To_Data_Science_y)\n",
        "    x_label = dict(df_t.Related_To_Data_Science_x.value_counts())\n",
        "    y_label = dict(df_t.Related_To_Data_Science_x.value_counts())\n",
        "    print \"=\"*40\n",
        "    print \"Department: %s\" % df_t.SUBJ_DESC_x.tolist()[0]\n",
        "    print \"Number of Courses: %d\" % len(df_t.DEPT_DESC_x)\n",
        "    print \"Courses Labeled by X: %s\" % str(x_label)\n",
        "    print \"Courses Labeled by Y: %s\" % str(y_label)\n",
        "    print \"Cohen Kappa Score: %f\" % k_score\n",
        "    print \"=\"*40\n",
        "    \n",
        "pd.DataFrame(df_n2.groupby('SUBJ_DESC_x').apply(cal_dept))"
      ],
      "execution_count": 38,
      "outputs": [
        {
          "output_type": "stream",
          "text": [
            "========================================\n",
            "Department: Accounting\n",
            "Number of Courses: 16\n",
            "Courses Labeled by X: {0: 15, 1: 1}\n",
            "Courses Labeled by Y: {0: 15, 1: 1}\n",
            "Cohen Kappa Score: 1.000000\n",
            "========================================\n",
            "========================================\n",
            "Department: Accounting\n",
            "Number of Courses: 16\n",
            "Courses Labeled by X: {0: 15, 1: 1}\n",
            "Courses Labeled by Y: {0: 15, 1: 1}\n",
            "Cohen Kappa Score: 1.000000\n",
            "========================================\n",
            "========================================\n",
            "Department: African Amrcn/African Diaspora\n",
            "Number of Courses: 4\n",
            "Courses Labeled by X: {0: 4}\n",
            "Courses Labeled by Y: {0: 4}\n",
            "Cohen Kappa Score: nan\n",
            "========================================\n",
            "========================================\n",
            "Department: Anthropology\n",
            "Number of Courses: 2\n",
            "Courses Labeled by X: {0: 2}\n",
            "Courses Labeled by Y: {0: 2}\n",
            "Cohen Kappa Score: nan\n",
            "========================================\n",
            "========================================\n",
            "Department: Art\n",
            "Number of Courses: 13\n",
            "Courses Labeled by X: {0: 13}\n",
            "Courses Labeled by Y: {0: 13}\n",
            "Cohen Kappa Score: nan\n",
            "========================================\n",
            "========================================\n",
            "Department: Art History\n",
            "Number of Courses: 6\n",
            "Courses Labeled by X: {0: 6}\n",
            "Courses Labeled by Y: {0: 6}\n",
            "Cohen Kappa Score: nan\n",
            "========================================\n",
            "========================================\n",
            "Department: Biology\n",
            "Number of Courses: 58\n",
            "Courses Labeled by X: {0: 57, 1: 1}\n",
            "Courses Labeled by Y: {0: 57, 1: 1}\n",
            "Cohen Kappa Score: -0.017544\n",
            "========================================\n",
            "========================================\n",
            "Department: Business Administration\n",
            "Number of Courses: 26\n",
            "Courses Labeled by X: {0: 25, 1: 1}\n",
            "Courses Labeled by Y: {0: 25, 1: 1}\n",
            "Cohen Kappa Score: -0.054054\n",
            "========================================\n",
            "========================================\n",
            "Department: Chemistry\n",
            "Number of Courses: 34\n",
            "Courses Labeled by X: {0: 33, 1: 1}\n",
            "Courses Labeled by Y: {0: 33, 1: 1}\n",
            "Cohen Kappa Score: 0.000000\n",
            "========================================\n",
            "========================================\n",
            "Department: Classical Civilization\n",
            "Number of Courses: 1\n",
            "Courses Labeled by X: {0: 1}\n",
            "Courses Labeled by Y: {0: 1}\n",
            "Cohen Kappa Score: nan\n",
            "========================================\n",
            "========================================\n",
            "Department: Comm Sciences and Disorders\n",
            "Number of Courses: 30\n",
            "Courses Labeled by X: {0: 29, 1: 1}\n",
            "Courses Labeled by Y: {0: 29, 1: 1}\n",
            "Cohen Kappa Score: 0.000000\n",
            "========================================\n",
            "========================================\n",
            "Department: Comm Therap/Recr Studies\n",
            "Number of Courses: 12\n",
            "Courses Labeled by X: {0: 12}\n",
            "Courses Labeled by Y: {0: 12}\n",
            "Cohen Kappa Score: nan\n",
            "========================================\n",
            "========================================\n",
            "Department: Communication Studies\n",
            "Number of Courses: 13\n",
            "Courses Labeled by X: {0: 13}\n",
            "Courses Labeled by Y: {0: 13}\n",
            "Cohen Kappa Score: nan\n",
            "========================================\n",
            "========================================\n",
            "Department: Computer Science\n",
            "Number of Courses: 30\n",
            "Courses Labeled by X: {0: 23, 1: 7}\n",
            "Courses Labeled by Y: {0: 23, 1: 7}\n",
            "Cohen Kappa Score: 0.733728\n",
            "========================================\n",
            "========================================\n",
            "Department: Consumer, Apparel, Retail Stds\n",
            "Number of Courses: 17\n",
            "Courses Labeled by X: {0: 15, 1: 2}\n",
            "Courses Labeled by Y: {0: 15, 1: 2}\n",
            "Cohen Kappa Score: 0.000000\n",
            "========================================\n",
            "========================================\n",
            "Department: Counseling and Ed Devlp\n",
            "Number of Courses: 50\n",
            "Courses Labeled by X: {0: 47, 1: 3}\n",
            "Courses Labeled by Y: {0: 47, 1: 3}\n",
            "Cohen Kappa Score: 0.000000\n",
            "========================================\n",
            "========================================\n",
            "Department: Dance\n",
            "Number of Courses: 31\n",
            "Courses Labeled by X: {0: 31}\n",
            "Courses Labeled by Y: {0: 31}\n",
            "Cohen Kappa Score: nan\n",
            "========================================\n",
            "========================================\n",
            "Department: Economics\n",
            "Number of Courses: 28\n",
            "Courses Labeled by X: {0: 21, 1: 7}\n",
            "Courses Labeled by Y: {0: 21, 1: 7}\n",
            "Cohen Kappa Score: 0.375000\n",
            "========================================\n",
            "========================================\n",
            "Department: Educ Ldrship and Cultrl Fndts\n",
            "Number of Courses: 45\n",
            "Courses Labeled by X: {0: 42, 1: 3}\n",
            "Courses Labeled by Y: {0: 42, 1: 3}\n",
            "Cohen Kappa Score: 0.000000\n",
            "========================================\n",
            "========================================\n",
            "Department: Educatnl Research Methodology\n",
            "Number of Courses: 32\n",
            "Courses Labeled by X: {0: 27, 1: 5}\n",
            "Courses Labeled by Y: {0: 27, 1: 5}\n",
            "Cohen Kappa Score: 0.333333\n",
            "========================================\n",
            "========================================\n",
            "Department: English\n",
            "Number of Courses: 49\n",
            "Courses Labeled by X: {0: 49}\n",
            "Courses Labeled by Y: {0: 49}\n",
            "Cohen Kappa Score: nan\n",
            "========================================\n",
            "========================================\n",
            "Department: English as a Second Language\n",
            "Number of Courses: 15\n",
            "Courses Labeled by X: {0: 15}\n",
            "Courses Labeled by Y: {0: 15}\n",
            "Cohen Kappa Score: nan\n",
            "========================================\n",
            "========================================\n",
            "Department: Entrepreneurship\n",
            "Number of Courses: 12\n",
            "Courses Labeled by X: {0: 12}\n",
            "Courses Labeled by Y: {0: 12}\n",
            "Cohen Kappa Score: nan\n",
            "========================================\n",
            "========================================\n",
            "Department: French\n",
            "Number of Courses: 9\n",
            "Courses Labeled by X: {0: 9}\n",
            "Courses Labeled by Y: {0: 9}\n",
            "Cohen Kappa Score: nan\n",
            "========================================\n",
            "========================================\n",
            "Department: Genetic Counseling\n",
            "Number of Courses: 17\n",
            "Courses Labeled by X: {0: 17}\n",
            "Courses Labeled by Y: {0: 17}\n",
            "Cohen Kappa Score: nan\n",
            "========================================\n",
            "========================================\n",
            "Department: Geogrphy,Envrnmnt,Sustainablty\n",
            "Number of Courses: 47\n",
            "Courses Labeled by X: {0: 41, 1: 6}\n",
            "Courses Labeled by Y: {0: 41, 1: 6}\n",
            "Cohen Kappa Score: 0.702532\n",
            "========================================\n",
            "========================================\n",
            "Department: Gerontology\n",
            "Number of Courses: 11\n",
            "Courses Labeled by X: {0: 11}\n",
            "Courses Labeled by Y: {0: 11}\n",
            "Cohen Kappa Score: nan\n",
            "========================================\n",
            "========================================\n",
            "Department: Health and Human Sciences\n",
            "Number of Courses: 13\n",
            "Courses Labeled by X: {0: 11, 1: 2}\n",
            "Courses Labeled by Y: {0: 11, 1: 2}\n",
            "Cohen Kappa Score: 0.000000\n",
            "========================================\n",
            "========================================\n",
            "Department: Higher Education\n",
            "Number of Courses: 16\n",
            "Courses Labeled by X: {0: 16}\n",
            "Courses Labeled by Y: {0: 16}\n",
            "Cohen Kappa Score: nan\n",
            "========================================\n",
            "========================================\n",
            "Department: History\n",
            "Number of Courses: 51\n",
            "Courses Labeled by X: {0: 51}\n",
            "Courses Labeled by Y: {0: 51}\n",
            "Cohen Kappa Score: nan\n",
            "========================================\n",
            "========================================\n",
            "Department: Human Develp / Family Studies\n",
            "Number of Courses: 30\n",
            "Courses Labeled by X: {0: 29, 1: 1}\n",
            "Courses Labeled by Y: {0: 29, 1: 1}\n",
            "Cohen Kappa Score: 1.000000\n",
            "========================================\n",
            "========================================\n",
            "Department: Info Sys and Operations Mngmt\n",
            "Number of Courses: 26\n",
            "Courses Labeled by X: {0: 19, 1: 7}\n",
            "Courses Labeled by Y: {0: 19, 1: 7}\n",
            "Cohen Kappa Score: 0.719424\n",
            "========================================\n",
            "========================================\n",
            "Department: Informatics / Analytics Fndtns\n",
            "Number of Courses: 6\n",
            "Courses Labeled by X: {1: 6}\n",
            "Courses Labeled by Y: {1: 6}\n",
            "Cohen Kappa Score: nan\n",
            "========================================\n",
            "========================================\n",
            "Department: Interior Architecture\n",
            "Number of Courses: 25\n",
            "Courses Labeled by X: {0: 24, 1: 1}\n",
            "Courses Labeled by Y: {0: 24, 1: 1}\n",
            "Cohen Kappa Score: 0.000000\n",
            "========================================\n",
            "========================================\n",
            "Department: Italian\n",
            "Number of Courses: 1\n",
            "Courses Labeled by X: {0: 1}\n",
            "Courses Labeled by Y: {0: 1}\n",
            "Cohen Kappa Score: nan\n",
            "========================================\n",
            "========================================\n",
            "Department: Kinesiology\n",
            "Number of Courses: 68\n",
            "Courses Labeled by X: {0: 66, 1: 2}\n",
            "Courses Labeled by Y: {0: 66, 1: 2}\n",
            "Cohen Kappa Score: 0.660000\n",
            "========================================\n",
            "========================================\n",
            "Department: Lang, Lit, & Cultures\n",
            "Number of Courses: 8\n",
            "Courses Labeled by X: {0: 8}\n",
            "Courses Labeled by Y: {0: 8}\n",
            "Cohen Kappa Score: nan\n",
            "========================================\n",
            "========================================\n",
            "Department: Latin\n",
            "Number of Courses: 2\n",
            "Courses Labeled by X: {0: 2}\n",
            "Courses Labeled by Y: {0: 2}\n",
            "Cohen Kappa Score: nan\n",
            "========================================\n",
            "========================================\n",
            "Department: Library/Information Studies\n",
            "Number of Courses: 43\n",
            "Courses Labeled by X: {0: 39, 1: 4}\n",
            "Courses Labeled by Y: {0: 39, 1: 4}\n",
            "Cohen Kappa Score: 0.644628\n",
            "========================================\n",
            "========================================\n",
            "Department: Marketing\n",
            "Number of Courses: 1\n",
            "Courses Labeled by X: {0: 1}\n",
            "Courses Labeled by Y: {0: 1}\n",
            "Cohen Kappa Score: nan\n",
            "========================================\n",
            "========================================\n",
            "Department: Master of Applied Arts/Science\n",
            "Number of Courses: 10\n",
            "Courses Labeled by X: {0: 10}\n",
            "Courses Labeled by Y: {0: 10}\n",
            "Cohen Kappa Score: nan\n",
            "========================================\n",
            "========================================\n",
            "Department: Master's in Business Admin\n",
            "Number of Courses: 23\n",
            "Courses Labeled by X: {0: 21, 1: 2}\n",
            "Courses Labeled by Y: {0: 21, 1: 2}\n",
            "Cohen Kappa Score: 0.000000\n",
            "========================================\n",
            "========================================\n",
            "Department: Mathematics\n",
            "Number of Courses: 48\n",
            "Courses Labeled by X: {0: 48}\n",
            "Courses Labeled by Y: {0: 48}\n",
            "Cohen Kappa Score: nan\n",
            "========================================\n",
            "========================================\n",
            "Department: Media Studies\n",
            "Number of Courses: 13\n",
            "Courses Labeled by X: {0: 13}\n",
            "Courses Labeled by Y: {0: 13}\n",
            "Cohen Kappa Score: nan\n",
            "========================================\n",
            "========================================\n",
            "Department: Music Education\n",
            "Number of Courses: 21\n",
            "Courses Labeled by X: {0: 21}\n",
            "Courses Labeled by Y: {0: 21}\n",
            "Cohen Kappa Score: nan\n",
            "========================================\n",
            "========================================\n",
            "Department: Music Ensemble\n",
            "Number of Courses: 32\n",
            "Courses Labeled by X: {0: 32}\n",
            "Courses Labeled by Y: {0: 32}\n",
            "Cohen Kappa Score: nan\n",
            "========================================\n",
            "========================================\n",
            "Department: Music Performance\n",
            "Number of Courses: 37\n",
            "Courses Labeled by X: {0: 37}\n",
            "Courses Labeled by Y: {0: 37}\n",
            "Cohen Kappa Score: nan\n",
            "========================================\n",
            "========================================\n",
            "Department: Music Studies\n",
            "Number of Courses: 22\n",
            "Courses Labeled by X: {0: 21, 1: 1}\n",
            "Courses Labeled by Y: {0: 21, 1: 1}\n",
            "Cohen Kappa Score: 0.000000\n",
            "========================================\n",
            "========================================\n",
            "Department: Nanoscience\n",
            "Number of Courses: 28\n",
            "Courses Labeled by X: {0: 27, 1: 1}\n",
            "Courses Labeled by Y: {0: 27, 1: 1}\n",
            "Cohen Kappa Score: 0.000000\n",
            "========================================\n",
            "========================================\n",
            "Department: Nursing\n",
            "Number of Courses: 96\n",
            "Courses Labeled by X: {0: 91, 1: 5}\n",
            "Courses Labeled by Y: {0: 91, 1: 5}\n",
            "Cohen Kappa Score: -0.040650\n",
            "========================================\n",
            "========================================\n",
            "Department: Nutrition\n",
            "Number of Courses: 23\n",
            "Courses Labeled by X: {0: 23}\n",
            "Courses Labeled by Y: {0: 23}\n",
            "Cohen Kappa Score: nan\n",
            "========================================\n",
            "========================================\n",
            "Department: Peace and Conflict Studies\n",
            "Number of Courses: 23\n",
            "Courses Labeled by X: {0: 23}\n",
            "Courses Labeled by Y: {0: 23}\n",
            "Cohen Kappa Score: nan\n",
            "========================================\n",
            "========================================\n",
            "Department: Philosophy\n",
            "Number of Courses: 5\n",
            "Courses Labeled by X: {0: 5}\n",
            "Courses Labeled by Y: {0: 5}\n",
            "Cohen Kappa Score: nan\n",
            "========================================\n",
            "========================================\n",
            "Department: Physics\n",
            "Number of Courses: 2\n",
            "Courses Labeled by X: {0: 2}\n",
            "Courses Labeled by Y: {0: 2}\n",
            "Cohen Kappa Score: nan\n",
            "========================================\n",
            "========================================\n",
            "Department: Political Science\n",
            "Number of Courses: 38\n",
            "Courses Labeled by X: {0: 34, 1: 4}\n",
            "Courses Labeled by Y: {0: 34, 1: 4}\n",
            "Cohen Kappa Score: 0.000000\n",
            "========================================\n",
            "========================================\n",
            "Department: Psychology\n",
            "Number of Courses: 27\n",
            "Courses Labeled by X: {0: 27}\n",
            "Courses Labeled by Y: {0: 27}\n",
            "Cohen Kappa Score: 0.000000\n",
            "========================================\n",
            "========================================\n",
            "Department: Public Health\n",
            "Number of Courses: 32\n",
            "Courses Labeled by X: {0: 29, 1: 3}\n",
            "Courses Labeled by Y: {0: 29, 1: 3}\n",
            "Cohen Kappa Score: 0.475410\n",
            "========================================\n",
            "========================================\n",
            "Department: Religious Studies\n",
            "Number of Courses: 1\n",
            "Courses Labeled by X: {0: 1}\n",
            "Courses Labeled by Y: {0: 1}\n",
            "Cohen Kappa Score: nan\n",
            "========================================\n",
            "========================================\n",
            "Department: Retailing and Consumer Stds\n",
            "Number of Courses: 2\n",
            "Courses Labeled by X: {0: 2}\n",
            "Courses Labeled by Y: {0: 2}\n",
            "Cohen Kappa Score: nan\n",
            "========================================\n",
            "========================================\n",
            "Department: Social Work\n",
            "Number of Courses: 37\n",
            "Courses Labeled by X: {0: 35, 1: 2}\n",
            "Courses Labeled by Y: {0: 35, 1: 2}\n",
            "Cohen Kappa Score: 0.654206\n",
            "========================================\n",
            "========================================\n",
            "Department: Sociology\n",
            "Number of Courses: 16\n",
            "Courses Labeled by X: {0: 14, 1: 2}\n",
            "Courses Labeled by Y: {0: 14, 1: 2}\n",
            "Cohen Kappa Score: 0.636364\n",
            "========================================\n",
            "========================================\n",
            "Department: Spanish\n",
            "Number of Courses: 13\n",
            "Courses Labeled by X: {0: 13}\n",
            "Courses Labeled by Y: {0: 13}\n",
            "Cohen Kappa Score: nan\n",
            "========================================\n",
            "========================================\n",
            "Department: Specialized Education Services\n",
            "Number of Courses: 35\n",
            "Courses Labeled by X: {0: 35}\n",
            "Courses Labeled by Y: {0: 35}\n",
            "Cohen Kappa Score: nan\n",
            "========================================\n",
            "========================================\n",
            "Department: Statistics\n",
            "Number of Courses: 30\n",
            "Courses Labeled by X: {0: 21, 1: 9}\n",
            "Courses Labeled by Y: {0: 21, 1: 9}\n",
            "Cohen Kappa Score: 0.461538\n",
            "========================================\n",
            "========================================\n",
            "Department: Supply Chain Management\n",
            "Number of Courses: 6\n",
            "Courses Labeled by X: {0: 6}\n",
            "Courses Labeled by Y: {0: 6}\n",
            "Cohen Kappa Score: nan\n",
            "========================================\n",
            "========================================\n",
            "Department: Teacher Education\n",
            "Number of Courses: 78\n",
            "Courses Labeled by X: {0: 74, 1: 4}\n",
            "Courses Labeled by Y: {0: 74, 1: 4}\n",
            "Cohen Kappa Score: 0.000000\n",
            "========================================\n",
            "========================================\n",
            "Department: Theatre (THR)\n",
            "Number of Courses: 64\n",
            "Courses Labeled by X: {0: 64}\n",
            "Courses Labeled by Y: {0: 64}\n",
            "Cohen Kappa Score: nan\n",
            "========================================\n",
            "========================================\n",
            "Department: Visual and Performing Arts\n",
            "Number of Courses: 3\n",
            "Courses Labeled by X: {0: 3}\n",
            "Courses Labeled by Y: {0: 3}\n",
            "Cohen Kappa Score: nan\n",
            "========================================\n",
            "========================================\n",
            "Department: Women's and Gender Studies\n",
            "Number of Courses: 8\n",
            "Courses Labeled by X: {0: 7, 1: 1}\n",
            "Courses Labeled by Y: {0: 7, 1: 1}\n",
            "Cohen Kappa Score: 0.000000\n",
            "========================================\n"
          ],
          "name": "stdout"
        },
        {
          "output_type": "execute_result",
          "data": {
            "text/plain": [
              "Empty DataFrame\n",
              "Columns: []\n",
              "Index: []"
            ],
            "text/html": [
              "<div>\n",
              "<style scoped>\n",
              "    .dataframe tbody tr th:only-of-type {\n",
              "        vertical-align: middle;\n",
              "    }\n",
              "\n",
              "    .dataframe tbody tr th {\n",
              "        vertical-align: top;\n",
              "    }\n",
              "\n",
              "    .dataframe thead th {\n",
              "        text-align: right;\n",
              "    }\n",
              "</style>\n",
              "<table border=\"1\" class=\"dataframe\">\n",
              "  <thead>\n",
              "    <tr style=\"text-align: right;\">\n",
              "      <th></th>\n",
              "    </tr>\n",
              "  </thead>\n",
              "  <tbody>\n",
              "  </tbody>\n",
              "</table>\n",
              "</div>"
            ]
          },
          "metadata": {
            "tags": []
          },
          "execution_count": 38
        }
      ]
    },
    {
      "cell_type": "code",
      "metadata": {
        "id": "G-sFNAFEhPSW",
        "colab_type": "code",
        "colab": {}
      },
      "source": [
        "ln2 = df_n2.groupby('DEPT_DESC_x').apply(my_code).to_frame()"
      ],
      "execution_count": 0,
      "outputs": []
    },
    {
      "cell_type": "code",
      "metadata": {
        "id": "AJs2HYmwhmaL",
        "colab_type": "code",
        "colab": {}
      },
      "source": [
        "new_keys = {'k_score'}\n",
        "key = {'0: DEPT_DESC_x'}\n",
        "for key,n_key in zip(ln2.keys(), new_keys):\n",
        "    ln2[n_key] = ln2.pop(key)"
      ],
      "execution_count": 0,
      "outputs": []
    },
    {
      "cell_type": "code",
      "metadata": {
        "id": "M7-YC-aThpeR",
        "colab_type": "code",
        "colab": {
          "base_uri": "https://localhost:8080/",
          "height": 235
        },
        "outputId": "ce188d2c-4461-47d3-d321-5dfa97920582"
      },
      "source": [
        "ln2.head()"
      ],
      "execution_count": 41,
      "outputs": [
        {
          "output_type": "execute_result",
          "data": {
            "text/plain": [
              "                                            k_score\n",
              "DEPT_DESC_x                                        \n",
              "Accounting and Finance                          1.0\n",
              "African Amer/African Diaspora                   nan\n",
              "Anthropology                                    nan\n",
              "Applied Arts and Sciences                       nan\n",
              "Biology                        -0.01754385964912286"
            ],
            "text/html": [
              "<div>\n",
              "<style scoped>\n",
              "    .dataframe tbody tr th:only-of-type {\n",
              "        vertical-align: middle;\n",
              "    }\n",
              "\n",
              "    .dataframe tbody tr th {\n",
              "        vertical-align: top;\n",
              "    }\n",
              "\n",
              "    .dataframe thead th {\n",
              "        text-align: right;\n",
              "    }\n",
              "</style>\n",
              "<table border=\"1\" class=\"dataframe\">\n",
              "  <thead>\n",
              "    <tr style=\"text-align: right;\">\n",
              "      <th></th>\n",
              "      <th>k_score</th>\n",
              "    </tr>\n",
              "    <tr>\n",
              "      <th>DEPT_DESC_x</th>\n",
              "      <th></th>\n",
              "    </tr>\n",
              "  </thead>\n",
              "  <tbody>\n",
              "    <tr>\n",
              "      <th>Accounting and Finance</th>\n",
              "      <td>1.0</td>\n",
              "    </tr>\n",
              "    <tr>\n",
              "      <th>African Amer/African Diaspora</th>\n",
              "      <td>nan</td>\n",
              "    </tr>\n",
              "    <tr>\n",
              "      <th>Anthropology</th>\n",
              "      <td>nan</td>\n",
              "    </tr>\n",
              "    <tr>\n",
              "      <th>Applied Arts and Sciences</th>\n",
              "      <td>nan</td>\n",
              "    </tr>\n",
              "    <tr>\n",
              "      <th>Biology</th>\n",
              "      <td>-0.01754385964912286</td>\n",
              "    </tr>\n",
              "  </tbody>\n",
              "</table>\n",
              "</div>"
            ]
          },
          "metadata": {
            "tags": []
          },
          "execution_count": 41
        }
      ]
    },
    {
      "cell_type": "code",
      "metadata": {
        "id": "aK4QNTzbhva5",
        "colab_type": "code",
        "colab": {}
      },
      "source": [
        "final2 = pd.DataFrame(pd.merge(df_n2, ln2, on = ['DEPT_DESC_x']))"
      ],
      "execution_count": 0,
      "outputs": []
    },
    {
      "cell_type": "code",
      "metadata": {
        "id": "6tcvCIWjhzBU",
        "colab_type": "code",
        "colab": {}
      },
      "source": [
        "final2 = final2[final2.k_score != 'nan']"
      ],
      "execution_count": 0,
      "outputs": []
    },
    {
      "cell_type": "markdown",
      "metadata": {
        "id": "nh2hUpaUh021",
        "colab_type": "text"
      },
      "source": [
        "***Visualization***"
      ]
    },
    {
      "cell_type": "code",
      "metadata": {
        "id": "LtjBwtu3YTdF",
        "colab_type": "code",
        "colab": {
          "base_uri": "https://localhost:8080/",
          "height": 439
        },
        "outputId": "5d52634f-af43-4f00-fb26-f7d3aa77145c"
      },
      "source": [
        "#Plot (final1)\n",
        "plt.plot(final['DEPT_DESC_x'], final['k_score'])\n",
        "plt.xticks(rotation = 90)\n",
        "plt.title(\"Final\")\n",
        "plt.show()"
      ],
      "execution_count": 44,
      "outputs": [
        {
          "output_type": "display_data",
          "data": {
            "image/png": "[encoded data removed]",
            "text/plain": [
              "<Figure size 432x288 with 1 Axes>"
            ]
          },
          "metadata": {
            "tags": [],
            "needs_background": "light"
          }
        }
      ]
    },
    {
      "cell_type": "code",
      "metadata": {
        "id": "2TXX0bQlPE7B",
        "colab_type": "code",
        "colab": {
          "base_uri": "https://localhost:8080/",
          "height": 510
        },
        "outputId": "94631a47-e367-4af2-95ab-03ebeb59d3b9"
      },
      "source": [
        "import matplotlib.pyplot as plt\n",
        "fig = plt.figure()\n",
        "ax = fig.add_axes([0,0,1, 1])\n",
        "plt.xticks(rotation = 90)\n",
        "ax.bar(final['DEPT_DESC_y'], final['k_score'])\n",
        "plt.title(\"Final\")\n",
        "plt.show()"
      ],
      "execution_count": 45,
      "outputs": [
        {
          "output_type": "display_data",
          "data": {
            "image/png": "[encoded data removed]",
            "text/plain": [
              "<Figure size 432x288 with 1 Axes>"
            ]
          },
          "metadata": {
            "tags": [],
            "needs_background": "light"
          }
        }
      ]
    },
    {
      "cell_type": "code",
      "metadata": {
        "id": "qWPWshN3ZO8q",
        "colab_type": "code",
        "colab": {}
      },
      "source": [
        ""
      ],
      "execution_count": 0,
      "outputs": []
    },
    {
      "cell_type": "markdown",
      "metadata": {
        "id": "3ECi7Q0Ck8t2",
        "colab_type": "text"
      },
      "source": [
        "***Final1***"
      ]
    },
    {
      "cell_type": "code",
      "metadata": {
        "id": "7ke9m0BPZRT7",
        "colab_type": "code",
        "colab": {
          "base_uri": "https://localhost:8080/",
          "height": 439
        },
        "outputId": "c9a886e1-eb2a-4a59-d04e-3634a5be80f3"
      },
      "source": [
        "plt.plot(final1['DEPT_DESC_x'], final1['k_score'])\n",
        "plt.xticks(rotation = 90)\n",
        "plt.title(\"Final 1\")\n",
        "plt.show()"
      ],
      "execution_count": 46,
      "outputs": [
        {
          "output_type": "display_data",
          "data": {
            "image/png": "[encoded data removed]",
            "text/plain": [
              "<Figure size 432x288 with 1 Axes>"
            ]
          },
          "metadata": {
            "tags": [],
            "needs_background": "light"
          }
        }
      ]
    },
    {
      "cell_type": "code",
      "metadata": {
        "id": "qv3XDL-SZWwB",
        "colab_type": "code",
        "colab": {
          "base_uri": "https://localhost:8080/",
          "height": 510
        },
        "outputId": "fae608e1-5a5f-45cb-abfd-6a1439086cc5"
      },
      "source": [
        "fig = plt.figure()\n",
        "ax = fig.add_axes([0,0,1, 1])\n",
        "plt.xticks(rotation = 90)\n",
        "ax.bar(final1['DEPT_DESC_y'], final1['k_score'])\n",
        "plt.title(\"Final 1\")\n",
        "plt.show()"
      ],
      "execution_count": 47,
      "outputs": [
        {
          "output_type": "display_data",
          "data": {
            "image/png": "[encoded data removed]",
            "text/plain": [
              "<Figure size 432x288 with 1 Axes>"
            ]
          },
          "metadata": {
            "tags": [],
            "needs_background": "light"
          }
        }
      ]
    },
    {
      "cell_type": "code",
      "metadata": {
        "id": "Nmjn4bV2dKiX",
        "colab_type": "code",
        "colab": {}
      },
      "source": [
        ""
      ],
      "execution_count": 0,
      "outputs": []
    },
    {
      "cell_type": "markdown",
      "metadata": {
        "id": "ufumu621lJHK",
        "colab_type": "text"
      },
      "source": [
        "***Final 2***"
      ]
    },
    {
      "cell_type": "code",
      "metadata": {
        "id": "DIchaFqFdhmm",
        "colab_type": "code",
        "colab": {
          "base_uri": "https://localhost:8080/",
          "height": 439
        },
        "outputId": "8475c628-666d-4bac-d4f4-932829b9609c"
      },
      "source": [
        "plt.plot(final2['DEPT_DESC_x'], final2['k_score'])\n",
        "plt.xticks(rotation = 90)\n",
        "plt.title(\"Final 2\")\n",
        "plt.show()"
      ],
      "execution_count": 48,
      "outputs": [
        {
          "output_type": "display_data",
          "data": {
            "image/png": "[encoded data removed]",
            "text/plain": [
              "<Figure size 432x288 with 1 Axes>"
            ]
          },
          "metadata": {
            "tags": [],
            "needs_background": "light"
          }
        }
      ]
    },
    {
      "cell_type": "code",
      "metadata": {
        "id": "xdle-EPsd0Ze",
        "colab_type": "code",
        "colab": {
          "base_uri": "https://localhost:8080/",
          "height": 510
        },
        "outputId": "5c8f3a82-1ecc-497a-9f5b-47cdfcd78933"
      },
      "source": [
        "fig = plt.figure()\n",
        "ax = fig.add_axes([0,0,1, 1])\n",
        "plt.xticks(rotation = 90)\n",
        "ax.bar(final2['DEPT_DESC_y'], final2['k_score'])\n",
        "plt.title(\"Final 2\")\n",
        "plt.show()"
      ],
      "execution_count": 49,
      "outputs": [
        {
          "output_type": "display_data",
          "data": {
            "image/png": "[encoded data removed]",
            "text/plain": [
              "<Figure size 432x288 with 1 Axes>"
            ]
          },
          "metadata": {
            "tags": [],
            "needs_background": "light"
          }
        }
      ]
    }
  ]
}